{
 "cells": [
  {
   "cell_type": "markdown",
   "metadata": {
    "hide_cell": true
   },
   "source": [
    "**SA367 &#x25aa; Mathematical Models for Decision Making &#x25aa; Spring 2022 &#x25aa; Uhan**"
   ]
  },
  {
   "cell_type": "markdown",
   "metadata": {
    "hide_cell": true
   },
   "source": [
    "# Lesson 4. The Mileage Running Problem"
   ]
  },
  {
   "cell_type": "markdown",
   "metadata": {},
   "source": [
    "## The problem"
   ]
  },
  {
   "cell_type": "markdown",
   "metadata": {},
   "source": [
    "Professor May B. Wright needs to fly from Baltimore (BWI) to Los Angeles (LAX) to attend a conference.\n",
    "She thinks this would be the perfect opportunity to accumulate some frequent flyer miles on American Airlines (AA), where she already has Platinum status.\n",
    "\n",
    "Looking into flights on AA, she sees that every itinerary from BWI to LAX costs roughly the same.\n",
    "She has a full day to spare for travel, so she wants to know: which sequence of AA domestic flights starting at BWI and ending at LAX over the course of one day will allow her to accumulate the most miles?"
   ]
  },
  {
   "cell_type": "markdown",
   "metadata": {},
   "source": [
    "* Yes, people actually do this: this is known as __mileage running__\n",
    "    - Apparently, this has become harder to do over the past decade\n",
    "    - [An older article from the New York Times](https://www.nytimes.com/2014/09/14/upshot/the-fadeout-of-the-mileage-run.html)\n",
    "    - [An even older article from Wired](https://www.wired.com/2007/07/mileage-runner/)"
   ]
  },
  {
   "cell_type": "markdown",
   "metadata": {},
   "source": [
    "## Modeling the problem"
   ]
  },
  {
   "cell_type": "markdown",
   "metadata": {},
   "source": [
    "* Suppose we have a database of every AA domestic flight on a given day\n",
    "\n",
    "\n",
    "* In particular, for each flight, we have:\n",
    "    - the flight number\n",
    "    - the origin airport\n",
    "    - the destination airport\n",
    "    - the departure time at the origin airport\n",
    "    - the arrival time at the destination airport\n",
    "    - the distance traveled in miles\n",
    "\n",
    "\n",
    "* How can we formulate Professor Wright's problem as a shortest path problem?"
   ]
  },
  {
   "cell_type": "markdown",
   "metadata": {},
   "source": [
    "## pandas (the package, not the animal 🐼)"
   ]
  },
  {
   "cell_type": "markdown",
   "metadata": {},
   "source": [
    "* In the same folder as this notebook, there is a file called `aa_domestic_flights.csv` with the database described above\n",
    "\n",
    "\n",
    "* `.csv` stands for __comma-separated values__\n",
    "\n",
    "\n",
    "* We can view `.csv` files in Excel\n",
    "\n",
    "\n",
    "* We can also view `.csv` files directly in JupyterLab &mdash; let's take a look!"
   ]
  },
  {
   "cell_type": "markdown",
   "metadata": {},
   "source": [
    "* We can use this data with Pythjon using [__pandas__](https://pandas.pydata.org/), a Python package for data manipulation and analysis\n",
    "    - It's especially useful for cleaning and manipulating datasets\n",
    "\n",
    "\n",
    "* pandas does a lot of stuff &mdash; [here is the official documentation for pandas](http://pandas.pydata.org/pandas-docs/stable/index.html)\n",
    "    \n",
    "\n",
    "* In this lesson, we'll use pandas in a very basic way to set up the shortest path problem we formulated above"
   ]
  },
  {
   "cell_type": "markdown",
   "metadata": {},
   "source": [
    "* To use pandas, we first need to import it, like this:"
   ]
  },
  {
   "cell_type": "code",
   "execution_count": 1,
   "metadata": {},
   "outputs": [],
   "source": [
    "import pandas as pd"
   ]
  },
  {
   "cell_type": "markdown",
   "metadata": {},
   "source": [
    "* A pandas __DataFrame__ is just a two-dimensional table, with rows and columns\n",
    "\n",
    "* We can use the `pd.read_csv()` function in pandas to read `aa_domestic_flights.csv` into a DataFrame called `df`, like this:"
   ]
  },
  {
   "cell_type": "code",
   "execution_count": 2,
   "metadata": {},
   "outputs": [],
   "source": [
    "# Read csv file into a DataFrame\n",
    "# Designate departure and arrival time columns as dates\n",
    "df = pd.read_csv('aa_domestic_flights.csv', parse_dates=['DEP_TIME', 'ARR_TIME'])"
   ]
  },
  {
   "cell_type": "markdown",
   "metadata": {},
   "source": [
    "* By default, `pd.read_csv()` assumes the first row of the csv file contains the names of each column\n",
    "\n",
    "\n",
    "* The `parse_dates` argument tells `pd.read_csv()` which columns correspond to dates, so that we can perform date-specific calculations on these columns later\n",
    "\n",
    "\n",
    "* [Here is the official documentation for `pd.read_csv()`](http://pandas.pydata.org/pandas-docs/stable/generated/pandas.read_csv.html)"
   ]
  },
  {
   "cell_type": "markdown",
   "metadata": {},
   "source": [
    "* It's a good idea to take a quick look at the DataFrame `pd.read_csv()` creates, just in case something went wrong\n",
    "\n",
    "\n",
    "* To examine the first 5 rows of a DataFrame, we can use the `.head()` method:"
   ]
  },
  {
   "cell_type": "code",
   "execution_count": null,
   "metadata": {},
   "outputs": [],
   "source": []
  },
  {
   "cell_type": "code",
   "execution_count": 3,
   "metadata": {
    "tags": [
     "solution"
    ]
   },
   "outputs": [
    {
     "data": {
      "text/html": [
       "<div>\n",
       "<style scoped>\n",
       "    .dataframe tbody tr th:only-of-type {\n",
       "        vertical-align: middle;\n",
       "    }\n",
       "\n",
       "    .dataframe tbody tr th {\n",
       "        vertical-align: top;\n",
       "    }\n",
       "\n",
       "    .dataframe thead th {\n",
       "        text-align: right;\n",
       "    }\n",
       "</style>\n",
       "<table border=\"1\" class=\"dataframe\">\n",
       "  <thead>\n",
       "    <tr style=\"text-align: right;\">\n",
       "      <th></th>\n",
       "      <th>FLIGHT</th>\n",
       "      <th>ORIGIN</th>\n",
       "      <th>DEST</th>\n",
       "      <th>DEP_TIME</th>\n",
       "      <th>ARR_TIME</th>\n",
       "      <th>DISTANCE</th>\n",
       "    </tr>\n",
       "  </thead>\n",
       "  <tbody>\n",
       "    <tr>\n",
       "      <th>0</th>\n",
       "      <td>1-BOS-JFK</td>\n",
       "      <td>BOS</td>\n",
       "      <td>JFK</td>\n",
       "      <td>2016-09-01 06:00:00</td>\n",
       "      <td>2016-09-01 07:15:00</td>\n",
       "      <td>187.0</td>\n",
       "    </tr>\n",
       "    <tr>\n",
       "      <th>1</th>\n",
       "      <td>40-BOS-ORD</td>\n",
       "      <td>BOS</td>\n",
       "      <td>ORD</td>\n",
       "      <td>2016-09-01 19:12:00</td>\n",
       "      <td>2016-09-01 22:02:00</td>\n",
       "      <td>867.0</td>\n",
       "    </tr>\n",
       "    <tr>\n",
       "      <th>2</th>\n",
       "      <td>147-BOS-LAX</td>\n",
       "      <td>BOS</td>\n",
       "      <td>LAX</td>\n",
       "      <td>2016-09-01 15:15:00</td>\n",
       "      <td>2016-09-01 21:45:00</td>\n",
       "      <td>2611.0</td>\n",
       "    </tr>\n",
       "    <tr>\n",
       "      <th>3</th>\n",
       "      <td>197-BOS-ORD</td>\n",
       "      <td>BOS</td>\n",
       "      <td>ORD</td>\n",
       "      <td>2016-09-01 15:30:00</td>\n",
       "      <td>2016-09-01 18:24:00</td>\n",
       "      <td>867.0</td>\n",
       "    </tr>\n",
       "    <tr>\n",
       "      <th>4</th>\n",
       "      <td>198-BOS-JFK</td>\n",
       "      <td>BOS</td>\n",
       "      <td>JFK</td>\n",
       "      <td>2016-09-01 13:10:00</td>\n",
       "      <td>2016-09-01 14:31:00</td>\n",
       "      <td>187.0</td>\n",
       "    </tr>\n",
       "  </tbody>\n",
       "</table>\n",
       "</div>"
      ],
      "text/plain": [
       "        FLIGHT ORIGIN DEST            DEP_TIME            ARR_TIME  DISTANCE\n",
       "0    1-BOS-JFK    BOS  JFK 2016-09-01 06:00:00 2016-09-01 07:15:00     187.0\n",
       "1   40-BOS-ORD    BOS  ORD 2016-09-01 19:12:00 2016-09-01 22:02:00     867.0\n",
       "2  147-BOS-LAX    BOS  LAX 2016-09-01 15:15:00 2016-09-01 21:45:00    2611.0\n",
       "3  197-BOS-ORD    BOS  ORD 2016-09-01 15:30:00 2016-09-01 18:24:00     867.0\n",
       "4  198-BOS-JFK    BOS  JFK 2016-09-01 13:10:00 2016-09-01 14:31:00     187.0"
      ]
     },
     "execution_count": 3,
     "metadata": {},
     "output_type": "execute_result"
    }
   ],
   "source": [
    "# Solution\n",
    "df.head()"
   ]
  },
  {
   "cell_type": "markdown",
   "metadata": {},
   "source": [
    "- The first column is the __index__ of the DataFrame\n",
    "    - The index provides a label for each row of the DataFrame\n",
    "\n",
    "\n",
    "- Right now, the index is sort of uninformative\n",
    "\n",
    "\n",
    "- Since each row corresponds to a flight, it would be nice if the index corresponded to the flight names\n",
    "\n",
    "\n",
    "- We can do this using the `.set_index()` method:"
   ]
  },
  {
   "cell_type": "code",
   "execution_count": null,
   "metadata": {},
   "outputs": [],
   "source": []
  },
  {
   "cell_type": "code",
   "execution_count": 4,
   "metadata": {
    "tags": [
     "solution"
    ]
   },
   "outputs": [],
   "source": [
    "# Solution\n",
    "df = df.set_index(\"FLIGHT\")"
   ]
  },
  {
   "cell_type": "markdown",
   "metadata": {},
   "source": [
    "- Let's see what this accomplished by printing the first 5 rows of the DataFrame `df` again:"
   ]
  },
  {
   "cell_type": "code",
   "execution_count": null,
   "metadata": {},
   "outputs": [],
   "source": []
  },
  {
   "cell_type": "code",
   "execution_count": 5,
   "metadata": {
    "tags": [
     "solution"
    ]
   },
   "outputs": [
    {
     "data": {
      "text/html": [
       "<div>\n",
       "<style scoped>\n",
       "    .dataframe tbody tr th:only-of-type {\n",
       "        vertical-align: middle;\n",
       "    }\n",
       "\n",
       "    .dataframe tbody tr th {\n",
       "        vertical-align: top;\n",
       "    }\n",
       "\n",
       "    .dataframe thead th {\n",
       "        text-align: right;\n",
       "    }\n",
       "</style>\n",
       "<table border=\"1\" class=\"dataframe\">\n",
       "  <thead>\n",
       "    <tr style=\"text-align: right;\">\n",
       "      <th></th>\n",
       "      <th>ORIGIN</th>\n",
       "      <th>DEST</th>\n",
       "      <th>DEP_TIME</th>\n",
       "      <th>ARR_TIME</th>\n",
       "      <th>DISTANCE</th>\n",
       "    </tr>\n",
       "    <tr>\n",
       "      <th>FLIGHT</th>\n",
       "      <th></th>\n",
       "      <th></th>\n",
       "      <th></th>\n",
       "      <th></th>\n",
       "      <th></th>\n",
       "    </tr>\n",
       "  </thead>\n",
       "  <tbody>\n",
       "    <tr>\n",
       "      <th>1-BOS-JFK</th>\n",
       "      <td>BOS</td>\n",
       "      <td>JFK</td>\n",
       "      <td>2016-09-01 06:00:00</td>\n",
       "      <td>2016-09-01 07:15:00</td>\n",
       "      <td>187.0</td>\n",
       "    </tr>\n",
       "    <tr>\n",
       "      <th>40-BOS-ORD</th>\n",
       "      <td>BOS</td>\n",
       "      <td>ORD</td>\n",
       "      <td>2016-09-01 19:12:00</td>\n",
       "      <td>2016-09-01 22:02:00</td>\n",
       "      <td>867.0</td>\n",
       "    </tr>\n",
       "    <tr>\n",
       "      <th>147-BOS-LAX</th>\n",
       "      <td>BOS</td>\n",
       "      <td>LAX</td>\n",
       "      <td>2016-09-01 15:15:00</td>\n",
       "      <td>2016-09-01 21:45:00</td>\n",
       "      <td>2611.0</td>\n",
       "    </tr>\n",
       "    <tr>\n",
       "      <th>197-BOS-ORD</th>\n",
       "      <td>BOS</td>\n",
       "      <td>ORD</td>\n",
       "      <td>2016-09-01 15:30:00</td>\n",
       "      <td>2016-09-01 18:24:00</td>\n",
       "      <td>867.0</td>\n",
       "    </tr>\n",
       "    <tr>\n",
       "      <th>198-BOS-JFK</th>\n",
       "      <td>BOS</td>\n",
       "      <td>JFK</td>\n",
       "      <td>2016-09-01 13:10:00</td>\n",
       "      <td>2016-09-01 14:31:00</td>\n",
       "      <td>187.0</td>\n",
       "    </tr>\n",
       "  </tbody>\n",
       "</table>\n",
       "</div>"
      ],
      "text/plain": [
       "            ORIGIN DEST            DEP_TIME            ARR_TIME  DISTANCE\n",
       "FLIGHT                                                                   \n",
       "1-BOS-JFK      BOS  JFK 2016-09-01 06:00:00 2016-09-01 07:15:00     187.0\n",
       "40-BOS-ORD     BOS  ORD 2016-09-01 19:12:00 2016-09-01 22:02:00     867.0\n",
       "147-BOS-LAX    BOS  LAX 2016-09-01 15:15:00 2016-09-01 21:45:00    2611.0\n",
       "197-BOS-ORD    BOS  ORD 2016-09-01 15:30:00 2016-09-01 18:24:00     867.0\n",
       "198-BOS-JFK    BOS  JFK 2016-09-01 13:10:00 2016-09-01 14:31:00     187.0"
      ]
     },
     "execution_count": 5,
     "metadata": {},
     "output_type": "execute_result"
    }
   ],
   "source": [
    "# Solution\n",
    "df.head()"
   ]
  },
  {
   "cell_type": "markdown",
   "metadata": {},
   "source": [
    "* A column by itself is called a **Series**\n",
    "\n",
    "\n",
    "* You can select the Series `DEST` of the DataFrame `df` like this:\n",
    "\n",
    "    ```python\n",
    "    df[\"DEST\"]\n",
    "    ```\n",
    "\n",
    "\n",
    "* So, to print the Series `DEST`, we could write:"
   ]
  },
  {
   "cell_type": "code",
   "execution_count": null,
   "metadata": {},
   "outputs": [],
   "source": []
  },
  {
   "cell_type": "code",
   "execution_count": 6,
   "metadata": {
    "tags": [
     "solution"
    ]
   },
   "outputs": [
    {
     "name": "stdout",
     "output_type": "stream",
     "text": [
      "FLIGHT\n",
      "1-BOS-JFK       JFK\n",
      "40-BOS-ORD      ORD\n",
      "147-BOS-LAX     LAX\n",
      "197-BOS-ORD     ORD\n",
      "198-BOS-JFK     JFK\n",
      "               ... \n",
      "621-BOI-DFW     DFW\n",
      "2357-LBB-DFW    DFW\n",
      "2571-ANC-DFW    DFW\n",
      "483-GEG-PHX     PHX\n",
      "490-GEG-PHX     PHX\n",
      "Name: DEST, Length: 2607, dtype: object\n"
     ]
    }
   ],
   "source": [
    "# Solution\n",
    "print(df[\"DEST\"])"
   ]
  },
  {
   "cell_type": "markdown",
   "metadata": {},
   "source": [
    "## Making the data easier to use"
   ]
  },
  {
   "cell_type": "markdown",
   "metadata": {},
   "source": [
    "- We have successfully imported our data into Python! \n",
    "\n",
    "\n",
    "- We could set up our shortest path problem using the DataFrame directly, but this can be a bit cumbersome\n",
    "\n",
    "\n",
    "- Let's take some additional steps that will make setting up our shortest path problem a bit easier"
   ]
  },
  {
   "cell_type": "markdown",
   "metadata": {},
   "source": [
    "- First, let's get a list of the flights\n",
    "\n",
    "\n",
    "- This will be useful, since the nodes in our shortest path problem correspond to the flights\n",
    "\n",
    "\n",
    "- In the DataFrame `df` we defined above, the index consists of the flights\n",
    "\n",
    "\n",
    "- We can get a list of the index values of `df` with `list(df.index.values)`, like this:"
   ]
  },
  {
   "cell_type": "code",
   "execution_count": null,
   "metadata": {
    "scrolled": true
   },
   "outputs": [],
   "source": []
  },
  {
   "cell_type": "code",
   "execution_count": 7,
   "metadata": {
    "scrolled": true,
    "tags": [
     "solution"
    ]
   },
   "outputs": [],
   "source": [
    "# Solution\n",
    "flights = list(df.index.values)"
   ]
  },
  {
   "cell_type": "markdown",
   "metadata": {},
   "source": [
    "- Let's check our work and inspect `flights` by printing it:"
   ]
  },
  {
   "cell_type": "code",
   "execution_count": null,
   "metadata": {
    "scrolled": true
   },
   "outputs": [],
   "source": []
  },
  {
   "cell_type": "code",
   "execution_count": 8,
   "metadata": {
    "scrolled": true,
    "tags": [
     "solution"
    ]
   },
   "outputs": [
    {
     "name": "stdout",
     "output_type": "stream",
     "text": [
      "Flights: ['1-BOS-JFK', '40-BOS-ORD', '147-BOS-LAX', '197-BOS-ORD', '198-BOS-JFK', '85-BOS-JFK', '252-BOS-ORD', '333-BOS-LAX', '1086-BOS-MIA', '1094-BOS-DFW', '307-BOS-PHX', '1155-BOS-ORD', '1172-BOS-MIA', '1211-BOS-DFW', '1274-BOS-MIA', '166-BOS-LAX', '175-BOS-DFW', '1435-BOS-ORD', '1404-BOS-ORD', '1503-BOS-ORD', '1509-BOS-MIA', '1240-BOS-ORD', '223-BOS-LAX', '1006-BOS-MIA', '1039-BOS-JFK', '2303-BOS-DFW', '2251-BOS-DFW', '2253-BOS-ORD', '2378-BOS-PHX', '2454-BOS-MIA', '2552-BOS-DFW', '421-BOS-PHL', '1707-BOS-PHL', '1787-BOS-CLT', '1788-BOS-CLT', '1805-BOS-CLT', '1879-BOS-CLT', '1907-BOS-PHX', '1925-BOS-CLT', '2068-BOS-CLT', '2116-BOS-DCA', '2118-BOS-LGA', '2119-BOS-DCA', '2120-BOS-DCA', '2121-BOS-LGA', '2124-BOS-DCA', '2126-BOS-LGA', '2127-BOS-DCA', '2129-BOS-DCA', '2130-BOS-DCA', '2131-BOS-LGA', '2134-BOS-DCA', '2136-BOS-LGA', '2139-BOS-DCA', '2141-BOS-LGA', '2142-BOS-DCA', '2146-BOS-LGA', '2148-BOS-LGA', '2149-BOS-DCA', '2152-BOS-LGA', '2158-BOS-LGA', '2159-BOS-DCA', '2160-BOS-DCA', '2162-BOS-LGA', '2165-BOS-LGA', '2168-BOS-LGA', '2169-BOS-DCA', '2170-BOS-DCA', '2171-BOS-LGA', '2172-BOS-LGA', '2173-BOS-DCA', '2591-BOS-ORD', '2607-BOS-DFW', '469-BOS-CLT', '543-BOS-PHL', '553-BOS-PHL', '656-BOS-PHL', '672-BOS-PHX', '714-BOS-PHL', '738-BOS-PHL', '793-BOS-CLT', '1664-BOS-PHL', '1668-BOS-PHL', '1672-BOS-PHL', '1696-BOS-CLT', '1-JFK-LAX', '3-JFK-LAX', '9-JFK-SFO', '15-JFK-SFO', '21-JFK-LAX', '23-JFK-LAX', '33-JFK-LAX', '45-JFK-SEA', '148-JFK-CLT', '95-JFK-SAN', '97-JFK-BOS', '101-JFK-CLT', '117-JFK-LAX', '131-JFK-ORD', '133-JFK-LAX', '177-JFK-SFO', '179-JFK-SFO', '185-JFK-LAX', '199-JFK-BOS', '200-JFK-MIA', '65-JFK-MIA', '67-JFK-SFO', '83-JFK-LAX', '85-JFK-SFO', '255-JFK-LAX', '293-JFK-LAX', '319-JFK-PHX', '1223-JFK-DFW', '1105-JFK-BOS', '1120-JFK-MCO', '1263-JFK-LAS', '171-JFK-LAX', '942-JFK-MIA', '947-JFK-MIA', '1488-JFK-PHX', '1495-JFK-CLT', '1357-JFK-SJU', '1562-JFK-PHX', '2183-JFK-DCA', '211-JFK-LAS', '235-JFK-MIA', '1039-JFK-BOS', '2230-JFK-MIA', '2296-JFK-ORD', '2382-JFK-MIA', '2530-JFK-CLT', '2675-JFK-AUS', '1865-JFK-CLT', '1970-JFK-CLT', '279-JFK-MCO', '2-LAX-JFK', '4-LAX-JFK', '10-LAX-JFK', '28-LAX-JFK', '30-LAX-JFK', '31-LAX-HNL', '32-LAX-JFK', '34-LAX-JFK', '146-LAX-BOS', '161-LAX-OGG', '109-LAX-HNL', '110-LAX-ORD', '118-LAX-JFK', '126-LAX-ORD', '180-LAX-JFK', '182-LAX-AUS', '202-LAX-BOS', '52-LAX-DCA', '59-LAX-KOA', '68-LAX-MIA', '70-LAX-DFW', '72-LAX-LAS', '82-LAX-JFK', '240-LAX-DCA', '253-LAX-OGG', '260-LAX-MIA', '265-LAX-LIH', '350-LAX-SFO', '1088-LAX-MIA', '297-LAX-HNL', '1058-LAX-LAS', '1133-LAX-SEA', '1171-LAX-BDL', '1180-LAX-MSP', '1203-LAX-LAS', '1116-LAX-ATL', '1243-LAX-DFW', '1249-LAX-ATL', '1258-LAX-STL', '163-LAX-MCO', '170-LAX-SFO', '172-LAX-JFK', '936-LAX-RDU', '1297-LAX-MIA', '1307-LAX-ORD', '1332-LAX-ORD', '1360-LAX-BOS', '1567-LAX-LAS', '1576-LAX-ORD', '1519-LAX-LAS', '1538-LAX-MIA', '1554-LAX-LAS', '209-LAX-SFO', '219-LAX-ORD', '1024-LAX-MIA', '1032-LAX-DFW', '2278-LAX-ORD', '2399-LAX-DFW', '2403-LAX-STL', '2406-LAX-DFW', '2420-LAX-DFW', '2373-LAX-DFW', '2381-LAX-MCO', '2462-LAX-DFW', '2471-LAX-MIA', '2473-LAX-DFW', '2475-LAX-DFW', '2438-LAX-SFO', '2450-LAX-DFW', '2453-LAX-DFW', '2561-LAX-DFW', '2503-LAX-ORD', '2507-LAX-BOS', '2513-LAX-ATL', '2664-LAX-AUS', '2670-LAX-IAD', '407-LAX-BNA', '426-LAX-BNA', '2635-LAX-IAD', '2663-LAX-AUS', '1705-LAX-LAS', '1710-LAX-CLT', '1737-LAX-SFO', '1783-LAX-CLT', '1899-LAX-PHX', '1910-LAX-CLT', '1972-LAX-CLT', '2576-LAX-ORD', '2580-LAX-MSY', '2588-LAX-SEA', '2597-LAX-AUS', '271-LAX-OGG', '283-LAX-HNL', '292-LAX-JFK', '356-LAX-SFO', '375-LAX-DFW', '395-LAX-ORD', '501-LAX-OMA', '508-LAX-CMH', '545-LAX-PHX', '551-LAX-PHX', '598-LAX-PHL', '604-LAX-MSP', '614-LAX-PHX', '626-LAX-PHX', '676-LAX-PHL', '680-LAX-PHX', '688-LAX-PHL', '696-LAX-CLT', '700-LAX-PHL', '706-LAX-IND', '716-LAX-PHL', '724-LAX-CLT', '726-LAX-PIT', '1660-LAX-PHL', '5-DFW-HNL', '7-DFW-OGG', '37-DFW-SFO', '43-DFW-DTW', '138-DFW-LGA', '140-DFW-SJC', '153-DFW-DCA', '159-DFW-SFO', '89-DFW-SLC', '96-DFW-STL', '103-DFW-SJC', '123-DFW-HNL', '132-DFW-EWR', '190-DFW-SAT', '206-DFW-MIA', '51-DFW-STL', '60-DFW-MIA', '71-DFW-LAX', '74-DFW-MEM', '81-DFW-DEN', '239-DFW-MSP', '259-DFW-SFO', '262-DFW-LGA', '323-DFW-STL', '326-DFW-STL', '329-DFW-MSP', '335-DFW-ORD', '340-DFW-MCI', '349-DFW-SFO', '351-DFW-IAH', '1093-DFW-RDU', '1094-DFW-BOS', '1100-DFW-MSY', '1101-DFW-ABQ', '1104-DFW-LGA', '294-DFW-ORF', '299-DFW-TUL', '301-DFW-DTW', '306-DFW-IND', '315-DFW-SAT', '320-DFW-SAT', '1054-DFW-IAH', '1065-DFW-BNA', '1067-DFW-SJC', '1129-DFW-IND', '1142-DFW-ORD', '1148-DFW-LGA', '1159-DFW-SAN', '1160-DFW-RDU', '1164-DFW-LGA', '1165-DFW-SLC', '1169-DFW-LGA', '1170-DFW-LGA', '1211-DFW-BOS', '1212-DFW-MCO', '1213-DFW-SAT', '1214-DFW-SAN', '1217-DFW-ORD', '1220-DFW-SEA', '1221-DFW-AUS', '1229-DFW-EWR', '1075-DFW-ELP', '1077-DFW-SLC', '1080-DFW-LGA', '1175-DFW-SAT', '1178-DFW-ATL', '1181-DFW-DAY', '1184-DFW-DEN', '1191-DFW-BNA', '1198-DFW-TPA', '1201-DFW-LGA', '1206-DFW-MSP', '1207-DFW-RDU', '1209-DFW-SMF', '1210-DFW-MSP', '1286-DFW-OMA', '1290-DFW-MCI', '1292-DFW-TUL', '1118-DFW-LGA', '1244-DFW-ORD', '1251-DFW-SDF', '1252-DFW-PIT', '1260-DFW-DTW', '1267-DFW-ORD', '1268-DFW-SAT', '1271-DFW-RIC', '1278-DFW-SNA', '1369-DFW-SJC', '1371-DFW-DSM', '1373-DFW-JAX', '174-DFW-RDU', '176-DFW-BOS', '907-DFW-JAX', '937-DFW-LAX', '944-DFW-TUS', '952-DFW-EWR', '970-DFW-MCI', '1000-DFW-TPA', '1445-DFW-SAN', '1450-DFW-AUS', '1298-DFW-SNA', '1300-DFW-MSY', '1302-DFW-FLL', '1309-DFW-FAT', '1408-DFW-OKC', '1412-DFW-MIA', '1414-DFW-AUS', '1418-DFW-DTW', '1425-DFW-MIA', '1426-DFW-PIT', '1427-DFW-ATL', '1430-DFW-BOS', '1381-DFW-CMH', '1382-DFW-IND', '1388-DFW-MSP', '1393-DFW-SFO', '1396-DFW-BNA', '1401-DFW-SAT', '1402-DFW-SEA', '1403-DFW-MIA', '1483-DFW-BOS', '1484-DFW-AUS', '1485-DFW-SMF', '1492-DFW-AUS', '1497-DFW-RNO', '1505-DFW-ONT', '1231-DFW-PHL', '1234-DFW-MKE', '1237-DFW-FLL', '1241-DFW-ONT', '1242-DFW-DEN', '1330-DFW-ELP', '1345-DFW-JFK', '1346-DFW-TUS', '1349-DFW-SEA', '1355-DFW-PDX', '1588-DFW-TUS', '1596-DFW-MIA', '1459-DFW-MCI', '1460-DFW-DCA', '1462-DFW-MIA', '1464-DFW-TUL', '1472-DFW-STL', '1473-DFW-ATL', '1556-DFW-IAD', '1557-DFW-OKC', '1560-DFW-SNA', '1561-DFW-AUS', '1564-DFW-EWR', '1568-DFW-MCI', '1569-DFW-DEN', '1580-DFW-PDX', '1581-DFW-BDL', '1582-DFW-CLE', '1439-DFW-BNA', '1513-DFW-COS', '1523-DFW-FLL', '1524-DFW-SAT', '1528-DFW-ORD', '1534-DFW-MKE', '1544-DFW-IAD', '1623-DFW-SEA', '2176-DFW-OKC', '2177-DFW-PHL', '2178-DFW-AMA', '2180-DFW-CMH', '2182-DFW-LGA', '2186-DFW-PNS', '232-DFW-ATL', '1004-DFW-AUS', '1008-DFW-IAD', '1009-DFW-MCO', '1010-DFW-STL', '1017-DFW-SNA', '1018-DFW-RSW', '1019-DFW-COS', '1023-DFW-LAX', '1035-DFW-RNO', '1038-DFW-MSY', '2302-DFW-MSY', '2304-DFW-IND', '2307-DFW-MIA', '1599-DFW-SNA', '1605-DFW-ONT', '1610-DFW-SEA', '1620-DFW-DEN', '2236-DFW-TUL', '2238-DFW-SEA', '2242-DFW-BNA', '2247-DFW-SEA', '2248-DFW-BWI', '2250-DFW-LAX', '2252-DFW-TUS', '2255-DFW-MCO', '2258-DFW-IAH', '2259-DFW-BNA', '2260-DFW-PSP', '2262-DFW-EWR', '1583-DFW-TUS', '2202-DFW-TUS', '2207-DFW-SFO', '2208-DFW-CLE', '2211-DFW-SNA', '2212-DFW-STL', '2213-DFW-LGA', '2214-DFW-ABQ', '2216-DFW-XNA', '2222-DFW-AUS', '2227-DFW-COS', '2228-DFW-SMF', '2232-DFW-DSM', '2328-DFW-BOS', '2329-DFW-MIA', '2330-DFW-ORD', '2332-DFW-ORD', '2333-DFW-ORF', '2335-DFW-ORD', '2336-DFW-MIA', '2343-DFW-MFE', '2345-DFW-MIA', '2194-DFW-COS', '2196-DFW-BOS', '2197-DFW-CLE', '2267-DFW-MEM', '2271-DFW-PBI', '2276-DFW-IND', '2283-DFW-SAN', '2289-DFW-SAN', '2290-DFW-DCA', '2292-DFW-DEN', '2293-DFW-DCA', '2297-DFW-MKE', '2298-DFW-DEN', '2299-DFW-OMA', '2427-DFW-ONT', '2429-DFW-SAT', '2430-DFW-CMH', '2309-DFW-ELP', '2310-DFW-ELP', '2311-DFW-ORD', '2313-DFW-MFE', '2316-DFW-MFE', '2317-DFW-OKC', '2318-DFW-MCI', '2319-DFW-ORD', '2320-DFW-ORD', '2322-DFW-PBI', '2324-DFW-RIC', '2326-DFW-OKC', '2394-DFW-MEM', '2396-DFW-OMA', '2397-DFW-SFO', '2398-DFW-BNA', '2400-DFW-SJC', '2401-DFW-LAX', '2407-DFW-ICT', '2408-DFW-ATL', '2409-DFW-ICT', '2410-DFW-LAX', '2412-DFW-SAT', '2418-DFW-JAX', '2423-DFW-MSP', '2264-DFW-CMH', '2361-DFW-BWI', '2362-DFW-DEN', '2366-DFW-RSW', '2368-DFW-IAH', '2371-DFW-STL', '2374-DFW-DEN', '2376-DFW-MSY', '2383-DFW-MSY', '2385-DFW-SAT', '2386-DFW-IAH', '2389-DFW-SNA', '2391-DFW-LBB', '2460-DFW-LAX', '2467-DFW-PDX', '2469-DFW-MSY', '2474-DFW-DTW', '2433-DFW-MCO', '2434-DFW-MCO', '2442-DFW-HOU', '2445-DFW-MEM', '2457-DFW-TPA', '2458-DFW-PIT', '2533-DFW-FAT', '2535-DFW-ORD', '2536-DFW-ICT', '2553-DFW-DCA', '2555-DFW-MCO', '2557-DFW-AUS', '2425-DFW-LAX', '2426-DFW-TUL', '2490-DFW-BDL', '2495-DFW-LAX', '2496-DFW-LAX', '2501-DFW-BNA', '2502-DFW-SNA', '2506-DFW-SNA', '2508-DFW-BWI', '2511-DFW-ABQ', '2518-DFW-TPA', '2522-DFW-PDX', '2524-DFW-ONT', '2665-DFW-TUL', '2668-DFW-DAY', '404-DFW-PHL', '417-DFW-SFO', '419-DFW-DCA', '420-DFW-PHL', '421-DFW-SAN', '425-DFW-LAS', '431-DFW-LAS', '435-DFW-SAN', '438-DFW-SEA', '440-DFW-DCA', '446-DFW-DEN', '448-DFW-PHX', '2477-DFW-LAX', '2478-DFW-SMF', '2479-DFW-HOU', '2480-DFW-LAX', '2481-DFW-SJU', '2482-DFW-AUS', '2485-DFW-MEM', '2488-DFW-TPA', '2489-DFW-LAX', '2618-DFW-JAC', '2619-DFW-JAC', '2621-DFW-EGE', '2623-DFW-TPA', '2626-DFW-FLL', '2646-DFW-AUS', '2651-DFW-BWI', '2661-DFW-ATL', '1704-DFW-CLT', '1711-DFW-ATL', '1719-DFW-CLT', '1743-DFW-CLT', '1763-DFW-LAS', '1766-DFW-LAS', '1767-DFW-ORD', '1771-DFW-MCO', '1848-DFW-CLE', '1878-DFW-CLT', '1936-DFW-CLT', '1955-DFW-MCO', '1982-DFW-CLT', '2091-DFW-CLT', '2098-DFW-LAS', '2347-DFW-CMH', '2352-DFW-SFO', '2354-DFW-IAD', '2358-DFW-MSY', '2360-DFW-TPA', '2570-DFW-SLC', '2571-DFW-ANC', '2583-DFW-DTW', '2585-DFW-MKE', '2600-DFW-SLC', '2601-DFW-RDU', '2608-DFW-RIC', '2610-DFW-ABQ', '2612-DFW-ELP', '277-DFW-SAN', '280-DFW-ORD', '357-DFW-SAT', '370-DFW-LAX', '384-DFW-MCI', '386-DFW-JAX', '391-DFW-TUL', '465-DFW-PHX', '473-DFW-BOI', '484-DFW-CLT', '499-DFW-SFO', '524-DFW-PHX', '536-DFW-LAS', '542-DFW-PHX', '544-DFW-PHX', '546-DFW-PHX', '550-DFW-CLT', '551-DFW-PHL', '560-DFW-DCA', '562-DFW-PHL', '575-DFW-PHX', '576-DFW-LAS', '585-DFW-PHL', '591-DFW-PHL', '606-DFW-PHX', '610-DFW-DCA', '611-DFW-ATL', '618-DFW-LAS', '621-DFW-IAH', '639-DFW-PHX', '670-DFW-LAS', '675-DFW-PDX', '698-DFW-SAN', '702-DFW-PHL', '720-DFW-CLT', '761-DFW-PHX', '889-DFW-PHX', '1665-DFW-PIT', '1670-DFW-IAH', '1688-DFW-MCO', '1692-DFW-CLT', '1693-DFW-LAS', '2564-DFW-FLL', '2568-DFW-ABQ', '5-OKC-DFW', '1557-OKC-DFW', '2184-OKC-DFW', '2210-OKC-DFW', '2372-OKC-DFW', '6-OGG-DFW', '14-OGG-LAX', '254-OGG-LAX', '212-OGG-LAX', '620-OGG-PHX', '8-HNL-DFW', '162-HNL-LAX', '102-HNL-DFW', '108-HNL-LAX', '298-HNL-LAX', '284-HNL-LAX', '631-HNL-PHX', '693-HNL-PHX', '12-SFO-JFK', '18-SFO-JFK', '20-SFO-JFK', '36-SFO-DFW', '150-SFO-ORD', '155-SFO-LAX', '193-SFO-DFW', '208-SFO-MIA', '66-SFO-JFK', '259-SFO-DFW', '1045-SFO-ORD', '1143-SFO-LAX', '1145-SFO-ORD', '1164-SFO-DFW', '164-SFO-JFK', '169-SFO-LAX', '931-SFO-MIA', '1454-SFO-DFW', '1522-SFO-ORD', '1540-SFO-MIA', '218-SFO-LAX', '2207-SFO-DFW', '2234-SFO-ORD', '2433-SFO-DFW', '2438-SFO-LAX', '2537-SFO-ORD', '434-SFO-PHL', '444-SFO-DFW', '1702-SFO-CLT', '1717-SFO-CLT', '1792-SFO-PHX', '1908-SFO-CLT', '1926-SFO-LAX', '1944-SFO-CLT', '1976-SFO-PHX', '2352-SFO-DFW', '2594-SFO-ORD', '276-SFO-JFK', '486-SFO-PHX', '591-SFO-DFW', '642-SFO-PHX', '649-SFO-PHX', '704-SFO-CLT', '722-SFO-PHL', '758-SFO-PHL', '774-SFO-PHL', '855-SFO-PHL', '898-SFO-CLT', '25-ORD-LAS', '41-ORD-SFO', '154-ORD-DCA', '87-ORD-PDX', '91-ORD-DFW', '111-ORD-LAX', '130-ORD-JFK', '186-ORD-LGA', '47-ORD-MSP', '53-ORD-TPA', '55-ORD-MCO', '241-ORD-MIA', '252-ORD-BOS', '327-ORD-DCA', '334-ORD-MIA', '336-ORD-LGA', '338-ORD-LGA', '342-ORD-MIA', '344-ORD-SNA', '348-ORD-LGA', '352-ORD-LGA', '1085-ORD-SEA', '1092-ORD-SJC', '1097-ORD-SEA', '1102-ORD-STL', '300-ORD-LAS', '1051-ORD-EWR', '1056-ORD-EWR', '1145-ORD-SFO', '1167-ORD-BOS', '1076-ORD-DCA', '1079-ORD-DCA', '1081-ORD-LAX', '1183-ORD-BOS', '1185-ORD-PHL', '1193-ORD-SNA', '1205-ORD-BOS', '1243-ORD-LAX', '1257-ORD-BOS', '1267-ORD-DCA', '1270-ORD-RSW', '1272-ORD-DEN', '1277-ORD-CLT', '1370-ORD-TUL', '168-ORD-RDU', '901-ORD-ATL', '1455-ORD-RDU', '1296-ORD-SAN', '1305-ORD-JFK', '1315-ORD-STL', '1316-ORD-SMF', '1317-ORD-MIA', '1405-ORD-MSP', '1407-ORD-MIA', '1409-ORD-MSP', '1411-ORD-MIA', '1428-ORD-DEN', '1432-ORD-DEN', '1438-ORD-SEA', '1377-ORD-MIA', '1474-ORD-AUS', '1476-ORD-AUS', '1480-ORD-DFW', '1500-ORD-PDX', '1503-ORD-BOS', '1507-ORD-TUS', '1232-ORD-SNA', '1239-ORD-SEA', '1240-ORD-BOS', '1323-ORD-STL', '1336-ORD-DFW', '1344-ORD-AUS', '1358-ORD-LAX', '1584-ORD-LAS', '1463-ORD-FLL', '1469-ORD-SFO', '1559-ORD-MSP', '1571-ORD-LAX', '1575-ORD-RDU', '1514-ORD-DFW', '1529-ORD-RDU', '1551-ORD-DCA', '1622-ORD-SFO', '2185-ORD-MSP', '233-ORD-MIA', '1022-ORD-SAN', '1027-ORD-MCO', '1045-ORD-SFO', '2300-ORD-DEN', '2261-ORD-SEA', '2201-ORD-STL', '2204-ORD-SAN', '2220-ORD-LAX', '2223-ORD-LAX', '2224-ORD-BOS', '2225-ORD-LAX', '2327-ORD-DFW', '2331-ORD-DFW', '2334-ORD-DFW', '2337-ORD-DFW', '2338-ORD-SNA', '2339-ORD-DFW', '2346-ORD-DFW', '2192-ORD-DCA', '2193-ORD-MIA', '2198-ORD-MCO', '2199-ORD-BDL', '2270-ORD-AUS', '2279-ORD-DEN', '2286-ORD-DTW', '2319-ORD-ATL', '2323-ORD-DCA', '2404-ORD-EWR', '2375-ORD-DFW', '2387-ORD-BOS', '2470-ORD-LAS', '2452-ORD-LAX', '2455-ORD-MSP', '2549-ORD-SAN', '2550-ORD-LAX', '2554-ORD-SJC', '2562-ORD-PHL', '2504-ORD-TPA', '2526-ORD-DFW', '2674-ORD-SEA', '2722-ORD-ATL', '410-ORD-PHX', '437-ORD-PHL', '2630-ORD-JAC', '2639-ORD-SFO', '2642-ORD-SLC', '2653-ORD-PBI', '2656-ORD-RNO', '1729-ORD-CLT', '1822-ORD-PHL', '1851-ORD-CLT', '1894-ORD-PHL', '1949-ORD-DFW', '1951-ORD-PHX', '1954-ORD-CLT', '1965-ORD-CLT', '1989-ORD-CLT', '1997-ORD-PHL', '2023-ORD-PHX', '2059-ORD-CLT', '2349-ORD-DFW', '2351-ORD-MCO', '2574-ORD-DTW', '2586-ORD-SFO', '281-ORD-DFW', '288-ORD-LGA', '363-ORD-LGA', '364-ORD-LGA', '365-ORD-LGA', '366-ORD-BOS', '368-ORD-LGA', '374-ORD-LGA', '380-ORD-LGA', '388-ORD-LGA', '392-ORD-LGA', '394-ORD-LGA', '395-ORD-SJU', '482-ORD-PHL', '492-ORD-PHX', '495-ORD-PHX', '547-ORD-PHX', '593-ORD-PHL', '622-ORD-CLT', '628-ORD-CLT', '711-ORD-PHX', '742-ORD-PHL', '853-ORD-PHX', '1510-ORD-TPA', '29-MIA-BOS', '39-MIA-MCO', '139-MIA-LAX', '88-MIA-LGA', '113-MIA-MCO', '134-MIA-SEA', '194-MIA-BWI', '195-MIA-MCO', '207-MIA-DFW', '57-MIA-IAH', '61-MIA-DFW', '64-MIA-JFK', '69-MIA-LAX', '236-MIA-JFK', '238-MIA-DCA', '242-MIA-ORD', '334-MIA-ORD', '341-MIA-MSY', '1084-MIA-LGA', '1090-MIA-ORD', '295-MIA-LAX', '310-MIA-LGA', '312-MIA-JFK', '313-MIA-BWI', '316-MIA-SJU', '1048-MIA-JFK', '1053-MIA-TPA', '1061-MIA-MCO', '1064-MIA-LGA', '1068-MIA-PHL', '1130-MIA-SFO', '1147-MIA-LAX', '1227-MIA-DCA', '1078-MIA-EWR', '1173-MIA-IAH', '1202-MIA-DCA', '1284-MIA-ORD', '1287-MIA-ORD', '1293-MIA-STX', '1109-MIA-ORD', '1254-MIA-SJU', '1266-MIA-RDU', '1269-MIA-MSY', '1367-MIA-LGA', '167-MIA-SFO', '397-MIA-SJU', '916-MIA-DCA', '919-MIA-ATL', '943-MIA-STT', '956-MIA-RDU', '969-MIA-DFW', '983-MIA-IAD', '1446-MIA-ATL', '1294-MIA-DFW', '1313-MIA-BOS', '1406-MIA-JFK', '1419-MIA-BDL', '1384-MIA-CLT', '1394-MIA-TPA', '1486-MIA-DCA', '1496-MIA-CLT', '1497-MIA-DFW', '1509-MIA-BOS', '1327-MIA-PHL', '1328-MIA-EWR', '1334-MIA-MCO', '1341-MIA-SJU', '1352-MIA-LAX', '1586-MIA-SFO', '1470-MIA-LAS', '1471-MIA-PHX', '1570-MIA-SJU', '1578-MIA-PHL', '1521-MIA-RDU', '1532-MIA-DEN', '1533-MIA-DCA', '1541-MIA-DFW', '1553-MIA-BOS', '234-MIA-ORD', '1002-MIA-DFW', '1006-MIA-BOS', '1011-MIA-LGA', '1037-MIA-EWR', '2305-MIA-DFW', '1604-MIA-IAH', '1605-MIA-DFW', '1611-MIA-STT', '1612-MIA-ORD', '1613-MIA-SJU', '1617-MIA-TPA', '1621-MIA-MSP', '2239-MIA-DCA', '2240-MIA-LGA', '2245-MIA-SAN', '2254-MIA-JFK', '2203-MIA-LAS', '2265-MIA-PHL', '2285-MIA-MCO', '2427-MIA-DFW', '2325-MIA-LGA', '2414-MIA-SJU', '2415-MIA-LGA', '2379-MIA-STT', '2461-MIA-SAT', '2464-MIA-MCO', '2435-MIA-LAX', '2439-MIA-ORD', '2443-MIA-DEN', '2447-MIA-MCO', '2448-MIA-CLT', '2424-MIA-AUS', '2493-MIA-JFK', '2498-MIA-IAH', '2512-MIA-ATL', '2520-MIA-LGA', '2521-MIA-STL', '2740-MIA-BOS', '408-MIA-PHX', '409-MIA-CLT', '2657-MIA-MCO', '2662-MIA-DCA', '1700-MIA-ATL', '1768-MIA-DCA', '1769-MIA-IAH', '1828-MIA-CLT', '1920-MIA-CLT', '2059-MIA-LAS', '2066-MIA-CLT', '2573-MIA-TPA', '2577-MIA-TPA', '2596-MIA-DFW', '275-MIA-LAX', '367-MIA-EWR', '376-MIA-LGA', '678-MIA-CLT', '798-MIA-PHL', '1652-MIA-DTW', '38-IAH-MIA', '100-IAH-CLT', '62-IAH-MIA', '976-IAH-DFW', '1579-IAH-MIA', '1044-IAH-MIA', '1604-IAH-DFW', '2244-IAH-DFW', '2256-IAH-DFW', '2386-IAH-DFW', '1698-IAH-PHL', '1721-IAH-CLT', '1776-IAH-MIA', '1860-IAH-CLT', '1913-IAH-PHX', '1924-IAH-CLT', '1940-IAH-CLT', '2095-IAH-PHL', '473-IAH-DFW', '493-IAH-PHX', '540-IAH-PHX', '621-IAH-PHX', '744-IAH-CLT', '1677-IAH-CLT', '1690-IAH-DFW', '43-DTW-DFW', '301-DTW-DFW', '1241-DTW-DFW', '2215-DTW-DFW', '2270-DTW-ORD', '2419-DTW-DFW', '2474-DTW-DFW', '2704-DTW-ORD', '1893-DTW-CLT', '1923-DTW-MIA', '1929-DTW-PHX', '1931-DTW-PHL', '1942-DTW-CLT', '454-DTW-PHX', '588-DTW-PHX', '638-DTW-PHX', '756-DTW-CLT', '44-SEA-JFK', '143-SEA-DFW', '1097-SEA-ORD', '1133-SEA-LAX', '1226-SEA-ORD', '1228-SEA-DFW', '1070-SEA-MIA', '1262-SEA-PHX', '1438-SEA-ORD', '1402-SEA-DFW', '1623-SEA-DFW', '1624-SEA-ORD', '2261-SEA-ORD', '2291-SEA-DFW', '2413-SEA-DFW', '2674-SEA-DFW', '442-SEA-PHX', '1896-SEA-PHX', '1932-SEA-PHX', '1936-SEA-DFW', '1998-SEA-CLT', '2050-SEA-CLT', '2355-SEA-ORD', '530-SEA-PHL', '572-SEA-PHL', '595-SEA-PHX', '624-SEA-CLT', '728-SEA-PHL', '46-MSP-ORD', '354-MSP-DFW', '309-MSP-MIA', '1210-MSP-DFW', '1310-MSP-ORD', '1409-MSP-ORD', '1388-MSP-PHX', '1395-MSP-DFW', '1405-MSP-ORD', '1456-MSP-PHX', '2201-MSP-ORD', '2274-MSP-DFW', '2423-MSP-DFW', '2455-MSP-ORD', '2532-MSP-DFW', '1791-MSP-CLT', '1853-MSP-CLT', '1884-MSP-PHL', '1900-MSP-PHL', '2039-MSP-CLT', '471-MSP-PHL', '604-MSP-LAX', '636-MSP-PHX', '792-MSP-PHL', '875-MSP-CLT', '1679-MSP-PHX', '137-LGA-DFW', '129-LGA-MCO', '187-LGA-ORD', '263-LGA-DFW', '325-LGA-ORD', '328-LGA-ORD', '332-LGA-ORD', '337-LGA-ORD', '343-LGA-ORD', '345-LGA-ORD', '1103-LGA-MIA', '303-LGA-ORD', '304-LGA-ORD', '1131-LGA-DFW', '1136-LGA-ORD', '1140-LGA-DFW', '1141-LGA-DFW', '1144-LGA-DFW', '1162-LGA-DFW', '1082-LGA-MIA', '1112-LGA-DFW', '1114-LGA-DFW', '1281-LGA-DFW', '1311-LGA-MIA', '1410-LGA-MIA', '1389-LGA-MIA', '1399-LGA-MIA', '1365-LGA-MIA', '1366-LGA-MIA', '1621-LGA-MIA', '2238-LGA-DFW', '2240-LGA-MIA', '2266-LGA-MIA', '2525-LGA-DFW', '1772-LGA-CLT', '1775-LGA-CLT', '2049-LGA-PHL', '2078-LGA-CLT', '2086-LGA-CLT', '2115-LGA-DCA', '2118-LGA-BOS', '2121-LGA-BOS', '2122-LGA-BOS', '2123-LGA-DCA', '2125-LGA-DCA', '2126-LGA-BOS', '2128-LGA-BOS', '2131-LGA-BOS', '2133-LGA-DCA', '2135-LGA-DCA', '2136-LGA-BOS', '2137-LGA-DCA', '2141-LGA-BOS', '2143-LGA-DCA', '2144-LGA-DCA', '2145-LGA-DCA', '2146-LGA-BOS', '2147-LGA-DCA', '2152-LGA-BOS', '2153-LGA-DCA', '2154-LGA-DCA', '2156-LGA-BOS', '2157-LGA-DCA', '2158-LGA-BOS', '2162-LGA-BOS', '2164-LGA-DCA', '2167-LGA-DCA', '2168-LGA-BOS', '2172-LGA-BOS', '289-LGA-ORD', '355-LGA-ORD', '359-LGA-ORD', '363-LGA-ORD', '371-LGA-ORD', '463-LGA-CLT', '581-LGA-CLT', '616-LGA-CLT', '679-LGA-CLT', '879-LGA-CLT', '890-LGA-CLT', '1669-LGA-RDU', '1678-LGA-ATL', '1687-LGA-ATL', '139-ATL-MIA', '1249-ATL-LAX', '901-ATL-MIA', '919-ATL-ORD', '958-ATL-MIA', '1427-ATL-DFW', '1473-ATL-DFW', '1574-ATL-ORD', '232-ATL-DFW', '1607-ATL-DFW', '2437-ATL-LAX', '2724-ATL-ORD', '413-ATL-PHX', '2655-ATL-DFW', '1700-ATL-CLT', '1708-ATL-CLT', '1711-ATL-CLT', '1727-ATL-PHL', '1731-ATL-PHL', '1887-ATL-PHL', '2015-ATL-CLT', '2032-ATL-CLT', '2053-ATL-CLT', '2072-ATL-PHL', '2085-ATL-PHL', '2595-ATL-DFW', '456-ATL-CLT', '596-ATL-PHX', '610-ATL-DFW', '629-ATL-DFW', '718-ATL-PHL', '786-ATL-CLT', '794-ATL-PHX', '1652-ATL-MIA', '1678-ATL-LGA', '1682-ATL-CLT', '1683-ATL-LGA', '145-LAS-LAX', '73-LAS-LAX', '1203-LAS-LAX', '1107-LAS-MIA', '989-LAS-MIA', '1567-LAS-LAX', '1440-LAS-LAX', '210-LAS-JFK', '224-LAS-ORD', '1029-LAS-ORD', '1584-LAS-PHX', '2229-LAS-JFK', '2395-LAS-DCA', '2411-LAS-ORD', '2562-LAS-ORD', '2497-LAS-LAX', '420-LAS-DFW', '424-LAS-DFW', '430-LAS-PHX', '431-LAS-CLT', '1705-LAS-LAX', '1719-LAS-DFW', '1763-LAS-DFW', '1767-LAS-DFW', '1806-LAS-CLT', '1829-LAS-PHX', '1873-LAS-CLT', '1911-LAS-PHX', '2075-LAS-CLT', '2082-LAS-DFW', '2098-LAS-DFW', '464-LAS-PHX', '607-LAS-PHL', '618-LAS-DFW', '654-LAS-PHL', '670-LAS-DFW', '677-LAS-PHL', '734-LAS-PHL', '748-LAS-CLT', '1650-LAS-PHX', '1674-LAS-MIA', '148-CLT-MIA', '100-CLT-JFK', '321-CLT-EWR', '1277-CLT-MIA', '1453-CLT-ORD', '1380-CLT-EWR', '1384-CLT-EWR', '1495-CLT-STT', '1496-CLT-EWR', '1364-CLT-EWR', '1458-CLT-EWR', '1608-CLT-JFK', '2249-CLT-EWR', '2529-CLT-JFK', '400-CLT-PHX', '409-CLT-DEN', '413-CLT-ATL', '428-CLT-DEN', '445-CLT-DEN', '448-CLT-DFW', '451-CLT-SLC', '2483-CLT-IAH', '2658-CLT-JFK', '1696-CLT-DFW', '1700-CLT-BDL', '1701-CLT-MIA', '1702-CLT-MIA', '1704-CLT-BDL', '1706-CLT-MEM', '1708-CLT-FLL', '1709-CLT-CHS', '1711-CLT-FLL', '1713-CLT-ILM', '1715-CLT-BNA', '1716-CLT-MCI', '1717-CLT-FLL', '1719-CLT-FLL', '1720-CLT-MDT', '1721-CLT-EWR', '1722-CLT-DCA', '1725-CLT-MCO', '1726-CLT-ILM', '1729-CLT-MCO', '1730-CLT-DCA', '1732-CLT-DCA', '1733-CLT-MCO', '1735-CLT-LAS', '1736-CLT-JAX', '1737-CLT-LAX', '1738-CLT-GSO', '1739-CLT-AUS', '1740-CLT-LGA', '1745-CLT-PIT', '1747-CLT-PIT', '1750-CLT-DCA', '1752-CLT-STL', '1756-CLT-BDL', '1760-CLT-FLL', '1762-CLT-RDU', '1770-CLT-ORF', '1772-CLT-DFW', '1774-CLT-CLE', '1775-CLT-DFW', '1780-CLT-CLE', '1783-CLT-BOS', '1784-CLT-MEM', '1785-CLT-ORF', '1787-CLT-PDX', '1788-CLT-ORD', '1789-CLT-PBI', '1791-CLT-TPA', '1793-CLT-PIT', '1795-CLT-IND', '1796-CLT-PHL', '1797-CLT-RDU', '1798-CLT-PHL', '1799-CLT-SFO', '1802-CLT-MSY', '1806-CLT-BOS', '1808-CLT-TPA', '1809-CLT-MSY', '1810-CLT-TPA', '1812-CLT-BOS', '1813-CLT-TPA', '1814-CLT-ATL', '1817-CLT-BNA', '1820-CLT-RSW', '1821-CLT-DTW', '1823-CLT-PWM', '1825-CLT-MEM', '1827-CLT-SAT', '1829-CLT-RDU', '1831-CLT-MIA', '1832-CLT-SAT', '1835-CLT-SYR', '1836-CLT-PHX', '1837-CLT-RSW', '1839-CLT-PHL', '1840-CLT-PIT', '1842-CLT-PIT', '1843-CLT-ALB', '1844-CLT-ORD', '1846-CLT-BNA', '1847-CLT-PHL', '1849-CLT-JAX', '1851-CLT-ORD', '1852-CLT-SJU', '1853-CLT-RSW', '1854-CLT-ATL', '1855-CLT-MSP', '1857-CLT-MCO', '1858-CLT-BUF', '1859-CLT-BNA', '1860-CLT-ROC', '1861-CLT-RDU', '1862-CLT-PHX', '1864-CLT-DCA', '1865-CLT-DEN', '1866-CLT-PBI', '1867-CLT-BNA', '1868-CLT-CHS', '1870-CLT-ROC', '1871-CLT-TPA', '1873-CLT-TPA', '1877-CLT-MIA', '1878-CLT-DFW', '1879-CLT-SEA', '1885-CLT-BUF', '1886-CLT-RIC', '1889-CLT-BDL', '1893-CLT-AUS', '1895-CLT-ORF', '1899-CLT-MCO', '1903-CLT-PVD', '1904-CLT-PIT', '1905-CLT-MCO', '1906-CLT-MCI', '1908-CLT-ORD', '1909-CLT-MSY', '1910-CLT-LGA', '1912-CLT-SEA', '1916-CLT-ORD', '1920-CLT-BWI', '1921-CLT-JAX', '1922-CLT-RIC', '1924-CLT-BWI', '1925-CLT-TPA', '1927-CLT-RDU', '1934-CLT-RDU', '1936-CLT-EWR', '1937-CLT-BOS', '1938-CLT-DCA', '1940-CLT-ALB', '1941-CLT-DTW', '1942-CLT-BUF', '1946-CLT-ORD', '1950-CLT-DCA', '1952-CLT-BUF', '1953-CLT-MSY', '1954-CLT-LGA', '1956-CLT-PHL', '1957-CLT-ILM', '1960-CLT-BWI', '1961-CLT-FLL', '1962-CLT-BWI', '1964-CLT-MCI', '1970-CLT-BWI', '1972-CLT-JFK', '1973-CLT-IND', '1975-CLT-LAX', '1977-CLT-IND', '1978-CLT-IAH', '1979-CLT-ILM', '1980-CLT-BOS', '1982-CLT-BOS', '1987-CLT-DCA', '1988-CLT-ALB', '1989-CLT-BOS', '1992-CLT-PVD', '1993-CLT-LAX', '1998-CLT-BWI', '2002-CLT-BOS', '2006-CLT-RIC', '2011-CLT-RDU', '2015-CLT-BNA', '2017-CLT-LGA', '2021-CLT-PHL', '2028-CLT-RIC', '2032-CLT-JAX', '2035-CLT-JAX', '2036-CLT-SYR', '2038-CLT-PVD', '2039-CLT-MSP', '2042-CLT-JFK', '2043-CLT-PBI', '2044-CLT-MSY', '2046-CLT-RSW', '2050-CLT-LGA', '2052-CLT-PWM', '2053-CLT-TPA', '2054-CLT-PHL', '2055-CLT-ORD', '2056-CLT-RDU', '2057-CLT-LAX', '2058-CLT-MEM', '2059-CLT-MIA', '2060-CLT-LGA', '2062-CLT-LGA', '2063-CLT-BWI', '2064-CLT-LGA', '2065-CLT-IAH', '2066-CLT-LGA', '2067-CLT-DTW', '2068-CLT-LGA', '2069-CLT-IAH', '2077-CLT-RIC', '2078-CLT-CLE', '2080-CLT-CLE', '2083-CLT-PBI', '2086-CLT-MSP', '2091-CLT-DFW', '379-CLT-MIA', '456-CLT-AUS', '461-CLT-SFO', '463-CLT-PVD', '466-CLT-SMF', '469-CLT-ATL', '470-CLT-SAN', '487-CLT-SAN', '494-CLT-PHX', '525-CLT-FLL', '557-CLT-SFO', '559-CLT-PHL', '565-CLT-DFW', '576-CLT-DFW', '581-CLT-MCO', '589-CLT-ATL', '600-CLT-PHX', '609-CLT-SEA', '616-CLT-DEN', '619-CLT-SFO', '628-CLT-PHX', '637-CLT-LAS', '643-CLT-LAS', '651-CLT-DEN', '657-CLT-IAH', '658-CLT-LAS', '662-CLT-SFO', '672-CLT-BOS', '673-CLT-IAH', '678-CLT-LAX', '679-CLT-PHX', '686-CLT-PHX', '691-CLT-MCO', '703-CLT-BWI', '705-CLT-SFO', '713-CLT-MSP', '721-CLT-DFW', '725-CLT-LAX', '731-CLT-TPA', '733-CLT-SAT', '745-CLT-IAH', '747-CLT-MCO', '749-CLT-LAS', '756-CLT-STL', '760-CLT-ATL', '765-CLT-STL', '787-CLT-ATL', '793-CLT-STL', '830-CLT-PHL', '850-CLT-BNA', '853-CLT-ORD', '856-CLT-DCA', '859-CLT-RDU', '873-CLT-ATL', '890-CLT-DFW', '891-CLT-DFW', '1652-CLT-ATL', '1653-CLT-MCI', '1654-CLT-BDL', '1677-CLT-PIT', '1682-CLT-JAX', '1691-CLT-RIC', '1692-CLT-BDL', '152-DCA-DFW', '153-DCA-ORD', '104-DCA-JFK', '196-DCA-DFW', '238-DCA-MIA', '245-DCA-LAX', '324-DCA-ORD', '327-DCA-DFW', '1227-DCA-MIA', '1076-DCA-ORD', '1079-DCA-ORD', '1202-DCA-MIA', '1111-DCA-ORD', '1253-DCA-LAX', '1375-DCA-LAS', '913-DCA-MIA', '1533-DCA-MIA', '1551-DCA-ORD', '2189-DCA-MIA', '1602-DCA-DFW', '2237-DCA-DFW', '2239-DCA-ORD', '2206-DCA-MIA', '2192-DCA-ORD', '419-DCA-DFW', '433-DCA-PHX', '435-DCA-DFW', '1711-DCA-DFW', '1713-DCA-CLT', '1738-DCA-CLT', '1741-DCA-FLL', '1749-DCA-PHL', '1761-DCA-TPA', '1768-DCA-MIA', '1816-DCA-MCO', '1841-DCA-TPA', '1854-DCA-CLT', '1872-DCA-MCO', '1876-DCA-MCO', '1880-DCA-PBI', '1904-DCA-CLT', '1959-DCA-TPA', '1979-DCA-CLT', '2041-DCA-PHL', '2044-DCA-CLT', '2077-DCA-CLT', '2116-DCA-BOS', '2117-DCA-LGA', '2119-DCA-BOS', '2120-DCA-BOS', '2124-DCA-BOS', '2125-DCA-LGA', '2129-DCA-BOS', '2130-DCA-BOS', '2133-DCA-LGA', '2134-DCA-BOS', '2135-DCA-LGA', '2137-DCA-LGA', '2138-DCA-BOS', '2139-DCA-BOS', '2140-DCA-BOS', '2142-DCA-BOS', '2143-DCA-LGA', '2144-DCA-LGA', '2145-DCA-LGA', '2147-DCA-LGA', '2149-DCA-BOS', '2150-DCA-BOS', '2153-DCA-LGA', '2154-DCA-LGA', '2157-DCA-LGA', '2160-DCA-BOS', '2164-DCA-LGA', '2167-DCA-LGA', '2169-DCA-BOS', '2170-DCA-BOS', '2174-DCA-LGA', '563-DCA-PHX', '589-DCA-CLT', '671-DCA-FLL', '694-DCA-PHX', '698-DCA-DFW', '862-DCA-MCO', '876-DCA-CLT', '1512-DCA-MIA', '156-SAN-ORD', '94-SAN-JFK', '934-SAN-ORD', '1445-SAN-DFW', '1296-SAN-ORD', '1566-SAN-ORD', '1042-SAN-MIA', '1597-SAN-PHX', '2205-SAN-DFW', '2289-SAN-DFW', '2549-SAN-PHX', '2491-SAN-DFW', '2527-SAN-PHX', '423-SAN-DFW', '1703-SAN-DFW', '2019-SAN-PHL', '277-SAN-DFW', '462-SAN-PHX', '487-SAN-CLT', '512-SAN-PHX', '567-SAN-PHX', '579-SAN-CLT', '606-SAN-DFW', '639-SAN-DFW', '648-SAN-PHL', '754-SAN-PHL', '160-COS-DFW', '1513-COS-DFW', '2194-COS-DFW', '2200-COS-DFW', '98-TUS-ORD', '302-TUS-DFW', '1415-TUS-DFW', '1583-TUS-DFW', '2226-TUS-DFW', '2195-TUS-DFW', '2377-TUS-DFW', '103-SJC-DFW', '353-SJC-PHX', '1092-SJC-ORD', '1369-SJC-DFW', '1318-SJC-DFW', '1388-SJC-DFW', '1628-SJC-ORD', '2431-SJC-DFW', '500-SJC-PHX', '574-SJC-PHX', '646-SJC-PHX', '699-SJC-PHX', '106-PHX-JFK', '353-PHX-BOS', '354-PHX-MSP', '307-PHX-PDX', '311-PHX-DEN', '319-PHX-PDX', '321-PHX-PDX', '1168-PHX-MSP', '1107-PHX-LAS', '1280-PHX-EWR', '926-PHX-SNA', '934-PHX-SAN', '1431-PHX-SEA', '1479-PHX-BWI', '1488-PHX-ONT', '1494-PHX-DEN', '1319-PHX-JFK', '1320-PHX-MCI', '1597-PHX-BWI', '1456-PHX-SNA', '1458-PHX-PDX', '1467-PHX-EWR', '1468-PHX-SLC', '1562-PHX-SMF', '1572-PHX-SMF', '1017-PHX-STL', '1598-PHX-EWR', '2341-PHX-BOS', '2431-PHX-SJC', '2315-PHX-MCO', '2378-PHX-SAN', '2390-PHX-MCI', '2468-PHX-ONT', '2548-PHX-SNA', '2527-PHX-JFK', '2672-PHX-SMF', '400-PHX-SFO', '403-PHX-SFO', '406-PHX-DTW', '411-PHX-ORD', '412-PHX-DTW', '413-PHX-SEA', '414-PHX-CLT', '429-PHX-ORD', '430-PHX-DTW', '432-PHX-OGG', '433-PHX-SFO', '438-PHX-DFW', '449-PHX-BOI', '450-PHX-SLC', '1712-PHX-PHL', '1740-PHX-AUS', '1742-PHX-DFW', '1764-PHX-DTW', '1765-PHX-IND', '1820-PHX-DEN', '1826-PHX-LAS', '1829-PHX-CLT', '1836-PHX-LAS', '1856-PHX-PHL', '1857-PHX-CLT', '1875-PHX-BOS', '1882-PHX-STL', '1892-PHX-LAS', '1899-PHX-CLT', '1920-PHX-MIA', '1947-PHX-BOI', '1976-PHX-CLT', '1985-PHX-PHL', '1989-PHX-ORD', '2000-PHX-ATL', '2020-PHX-CLT', '2023-PHX-LAX', '2026-PHX-PHL', '2027-PHX-TPA', '2037-PHX-SEA', '2087-PHX-IAH', '2108-PHX-BWI', '454-PHX-SLC', '456-PHX-SLC', '459-PHX-DEN', '460-PHX-IND', '462-PHX-SAN', '464-PHX-DFW', '473-PHX-IAH', '474-PHX-MSP', '477-PHX-IAH', '483-PHX-STL', '486-PHX-ORD', '489-PHX-PIT', '490-PHX-OMA', '491-PHX-LAX', '492-PHX-ORD', '493-PHX-OAK', '495-PHX-LAX', '498-PHX-DCA', '500-PHX-IND', '511-PHX-OMA', '514-PHX-CMH', '516-PHX-SMF', '521-PHX-SEA', '523-PHX-RNO', '528-PHX-RNO', '531-PHX-RNO', '542-PHX-DFW', '544-PHX-DFW', '545-PHX-DFW', '548-PHX-MKE', '549-PHX-DFW', '550-PHX-DFW', '551-PHX-DFW', '552-PHX-SMF', '560-PHX-DFW', '563-PHX-SAN', '567-PHX-MCO', '574-PHX-TPA', '580-PHX-GEG', '582-PHX-MKE', '586-PHX-GEG', '588-PHX-SJC', '592-PHX-MCI', '593-PHX-ORD', '594-PHX-IAH', '595-PHX-DCA', '596-PHX-SJC', '599-PHX-SJC', '603-PHX-SEA', '612-PHX-ATL', '621-PHX-OAK', '623-PHX-LAX', '625-PHX-BOI', '626-PHX-LAS', '627-PHX-OAK', '634-PHX-PIT', '636-PHX-LAS', '638-PHX-SJC', '639-PHX-SAN', '640-PHX-LAX', '641-PHX-SAN', '642-PHX-DEN', '646-PHX-BOS', '647-PHX-ONT', '649-PHX-DFW', '650-PHX-SNA', '652-PHX-STL', '660-PHX-SNA', '663-PHX-KOA', '665-PHX-CMH', '680-PHX-DCA', '684-PHX-LIH', '686-PHX-SFO', '691-PHX-CLT', '692-PHX-HNL', '694-PHX-HNL', '695-PHX-LAX', '710-PHX-ORD', '767-PHX-CLT', '776-PHX-PHL', '803-PHX-DSM', '816-PHX-MSP', '896-PHX-DSM', '1650-PHX-ATL', '1651-PHX-SFO', '1667-PHX-RNO', '106-SNA-PHX', '244-SNA-DFW', '1152-SNA-ORD', '1168-SNA-PHX', '1205-SNA-ORD', '1278-SNA-DFW', '1298-SNA-DFW', '1342-SNA-DFW', '1627-SNA-DFW', '1017-SNA-PHX', '1599-SNA-DFW', '2193-SNA-ORD', '2548-SNA-DFW', '2506-SNA-DFW', '2572-SNA-DFW', '385-SNA-ORD', '507-SNA-PHX', '653-SNA-PHX', '112-MCO-MIA', '127-MCO-DFW', '178-MCO-LAX', '195-MCO-MIA', '54-MCO-ORD', '56-MCO-MIA', '296-MCO-MIA', '1212-MCO-ORD', '998-MCO-LAX', '1235-MCO-ORD', '1461-MCO-MIA', '1555-MCO-JFK', '1009-MCO-DFW', '2301-MCO-PHX', '2285-MCO-LGA', '2380-MCO-MIA', '2388-MCO-ORD', '2464-MCO-MIA', '2466-MCO-DFW', '2447-MCO-MIA', '2505-MCO-DFW', '2517-MCO-MIA', '425-MCO-DFW', '2625-MCO-DFW', '1718-MCO-DCA', '1728-MCO-PHL', '1766-MCO-DFW', '1816-MCO-DCA', '1838-MCO-PHL', '1850-MCO-PHL', '1872-MCO-DCA', '1916-MCO-CLT', '1917-MCO-PHL', '1937-MCO-CLT', '2008-MCO-PHL', '2017-MCO-CLT', '2055-MCO-CLT', '2351-MCO-DFW', '278-MCO-JFK', '461-MCO-CLT', '516-MCO-PHX', '637-MCO-CLT', '651-MCO-CLT', '746-MCO-CLT', '768-MCO-PHL', '853-MCO-CLT', '862-MCO-DCA', '1666-MCO-PHL', '1688-MCO-DFW', '183-AUS-LAX', '1221-AUS-DFW', '1386-AUS-DFW', '1476-AUS-DFW', '1484-AUS-ORD', '1233-AUS-MIA', '1344-AUS-ORD', '1595-AUS-DFW', '1460-AUS-DFW', '1474-AUS-LAX', '1561-AUS-DFW', '2183-AUS-JFK', '1004-AUS-DFW', '2222-AUS-DFW', '2547-AUS-DFW', '2664-AUS-ORD', '2482-AUS-DFW', '2646-AUS-DFW', '2649-AUS-LAX', '2663-AUS-LAX', '1740-AUS-CLT', '1774-AUS-CLT', '1964-AUS-CLT', '2093-AUS-PHL', '2575-AUS-ORD', '456-AUS-PHX', '50-STL-DFW', '323-STL-DFW', '1102-STL-ORD', '322-STL-DFW', '1199-STL-ORD', '1368-STL-MIA', '1442-STL-DFW', '1585-STL-ORD', '1572-STL-PHX', '2344-STL-DFW', '2190-STL-DFW', '2287-STL-ORD', '2444-STL-LAX', '2516-STL-DFW', '2617-STL-LAX', '1762-STL-CLT', '1885-STL-CLT', '1889-STL-CLT', '1935-STL-PHL', '2058-STL-CLT', '358-STL-DFW', '453-STL-PHX', '660-STL-PHX', '1684-STL-PHX', '58-KOA-LAX', '664-KOA-PHX', '74-MEM-DFW', '1035-MEM-DFW', '2273-MEM-DFW', '2394-MEM-DFW', '2445-MEM-DFW', '1736-MEM-CLT', '1739-MEM-CLT', '1795-MEM-CLT', '1830-MEM-CLT', '78-SLC-DFW', '1047-SLC-DFW', '1219-SLC-DFW', '1178-SLC-DFW', '2341-SLC-PHX', '2643-SLC-ORD', '2014-SLC-CLT', '2600-SLC-DFW', '452-SLC-PHX', '477-SLC-PHX', '652-SLC-PHX', '80-DEN-DFW', '1150-DEN-ORD', '1169-DEN-DFW', '1272-DEN-ORD', '934-DEN-PHX', '1431-DEN-PHX', '1242-DEN-DFW', '1577-DEN-ORD', '2300-DEN-ORD', '1620-DEN-DFW', '2342-DEN-MIA', '2312-DEN-ORD', '2374-DEN-DFW', '409-DEN-PHX', '428-DEN-CLT', '2481-DEN-DFW', '2634-DEN-DFW', '2654-DEN-DFW', '1699-DEN-PHL', '1808-DEN-CLT', '1811-DEN-CLT', '1820-DEN-CLT', '1826-DEN-PHX', '1980-DEN-CLT', '372-DEN-DFW', '504-DEN-PHX', '536-DEN-DFW', '669-DEN-PHL', '695-DEN-PHL', '891-DEN-CLT', '1511-DEN-MIA', '86-PDX-ORD', '1319-PDX-PHX', '1475-PDX-DFW', '1479-PDX-PHX', '1494-PDX-PHX', '1500-PDX-DFW', '1525-PDX-DFW', '2281-PDX-ORD', '2472-PDX-DFW', '1930-PDX-CLT', '2602-PDX-DFW', '566-PDX-PHX', '249-PHL-DFW', '1068-PHL-MIA', '1185-PHL-ORD', '1457-PHL-ORD', '2275-PHL-DFW', '2463-PHL-MIA', '401-PHL-DFW', '421-PHL-DFW', '436-PHL-PHX', '437-PHL-ORD', '447-PHL-DFW', '1698-PHL-IAH', '1699-PHL-DEN', '1727-PHL-ATL', '1728-PHL-MCO', '1733-PHL-CLT', '1743-PHL-DFW', '1744-PHL-DCA', '1746-PHL-MCO', '1748-PHL-MCO', '1751-PHL-RSW', '1755-PHL-RDU', '1759-PHL-PVD', '1786-PHL-MCO', '1800-PHL-FLL', '1822-PHL-PBI', '1824-PHL-BOS', '1833-PHL-ATL', '1838-PHL-MCO', '1844-PHL-CLT', '1850-PHL-MCO', '1881-PHL-PHX', '1883-PHL-MSP', '1887-PHL-ATL', '1888-PHL-BOS', '1901-PHL-MSP', '1902-PHL-RDU', '1905-PHL-CLT', '1918-PHL-PVD', '1931-PHL-DTW', '1934-PHL-CLT', '1935-PHL-STL', '1939-PHL-MSY', '1962-PHL-CLT', '1971-PHL-RDU', '1973-PHL-CLT', '1983-PHL-PIT', '1984-PHL-PIT', '1991-PHL-ORD', '1994-PHL-ORD', '1995-PHL-ORD', '2001-PHL-FLL', '2005-PHL-CLT', '2007-PHL-JAX', '2016-PHL-ATL', '2022-PHL-FLL', '2023-PHL-ORD', '2024-PHL-RDU', '2033-PHL-JAX', '2040-PHL-DCA', '2048-PHL-IND', '2051-PHL-MIA', '2074-PHL-LGA', '2079-PHL-ATL', '2081-PHL-TPA', '2089-PHL-BDL', '2093-PHL-AUS', '2094-PHL-IAH', '2096-PHL-MCI', '2582-PHL-MIA', '482-PHL-ORD', '506-PHL-PHX', '539-PHL-TPA', '543-PHL-DFW', '573-PHL-SEA', '577-PHL-LAS', '597-PHL-LAX', '611-PHL-DFW', '615-PHL-SFO', '656-PHL-SFO', '668-PHL-DEN', '674-PHL-SAN', '675-PHL-DFW', '683-PHL-MSY', '689-PHL-LAS', '695-PHL-PHX', '701-PHL-LAX', '709-PHL-SFO', '715-PHL-BOS', '717-PHL-LAX', '719-PHL-ATL', '723-PHL-SFO', '729-PHL-SEA', '735-PHL-LAS', '739-PHL-BOS', '741-PHL-SJU', '743-PHL-ORD', '755-PHL-SAN', '759-PHL-SFO', '769-PHL-MCO', '771-PHL-SJU', '777-PHL-PHX', '781-PHL-LAX', '784-PHL-LAS', '785-PHL-LAX', '792-PHL-MSP', '797-PHL-LAX', '807-PHL-SAN', '834-PHL-TPA', '851-PHL-DEN', '854-PHL-SEA', '892-PHL-CLT', '1655-PHL-BOS', '1657-PHL-BOS', '1661-PHL-BOS', '1663-PHL-BOS', '1671-PHL-BOS', '1675-PHL-BOS', '1680-PHL-PBI', '1686-PHL-MSP', '1689-PHL-RDU', '2562-PHL-MIA', '266-LIH-LAX', '697-LIH-PHX', '340-MCI-DFW', '1046-MCI-DFW', '1224-MCI-DFW', '1107-MCI-PHX', '926-MCI-PHX', '970-MCI-DFW', '1387-MCI-DFW', '1568-MCI-DFW', '2318-MCI-DFW', '1701-MCI-CLT', '1706-MCI-CLT', '1843-MCI-CLT', '2097-MCI-PHL', '552-MCI-PHX', '850-MCI-CLT', '346-JAX-DFW', '1373-JAX-DFW', '2280-JAX-DFW', '1847-JAX-CLT', '1886-JAX-CLT', '1948-JAX-PHL', '1950-JAX-CLT', '2028-JAX-CLT', '2034-JAX-PHL', '2080-JAX-CLT', '2092-JAX-CLT', '386-JAX-DFW', '347-MSY-MIA', '1283-MSY-DFW', '1300-MSY-DFW', '1594-MSY-DFW', '1038-MSY-DFW', '2302-MSY-DFW', '2383-MSY-DFW', '1864-MSY-CLT', '1870-MSY-CLT', '1938-MSY-CLT', '1939-MSY-PHL', '2358-MSY-DFW', '2580-MSY-LAX', '387-MSY-DFW', '390-MSY-MIA', '683-MSY-PHL', '732-MSY-CLT', '885-MSY-CLT', '1083-IAD-MIA', '1362-IAD-LAX', '1556-IAD-DFW', '1544-IAD-DFW', '2541-IAD-DFW', '2636-IAD-LAX', '2569-IAD-DFW', '1091-SJU-MIA', '1222-SJU-MIA', '1299-SJU-MIA', '1329-SJU-ORD', '1357-SJU-JFK', '1591-SJU-DFW', '1014-SJU-MIA', '2414-SJU-MIA', '2415-SJU-MIA', '1862-SJU-CLT', '2605-SJU-MIA', '772-SJU-PHL', '1099-ORF-DFW', '294-ORF-DFW', '1780-ORF-CLT', '1863-ORF-CLT', '2002-ORF-CLT', '1101-ABQ-DFW', '1282-ABQ-DFW', '2214-ABQ-DFW', '2511-ABQ-DFW', '2611-ABQ-DFW', '299-FLL-DFW', '1302-FLL-DFW', '1523-FLL-DFW', '2191-FLL-DFW', '2363-FLL-DFW', '418-FLL-DCA', '1735-FLL-CLT', '1741-FLL-DCA', '1790-FLL-PHL', '1800-FLL-PHL', '1839-FLL-CLT', '1846-FLL-CLT', '1921-FLL-CLT', '2029-FLL-PHL', '2056-FLL-CLT', '470-FLL-CLT', '557-FLL-CLT', '2564-FLL-ORD', '306-IND-DFW', '1129-IND-DFW', '1074-IND-DFW', '1382-IND-DFW', '2288-IND-DFW', '403-IND-PHX', '1714-IND-PHX', '1756-IND-CLT', '1818-IND-CLT', '1827-IND-CLT', '1840-IND-CLT', '460-IND-LAX', '580-IND-PHX', '315-SAT-DFW', '320-SAT-DFW', '1062-SAT-DFW', '1213-SAT-DFW', '1424-SAT-DFW', '1433-SAT-DFW', '1516-SAT-MIA', '1524-SAT-DFW', '2272-SAT-DFW', '2412-SAT-DFW', '2385-SAT-DFW', '1720-SAT-CLT', '1952-SAT-CLT', '357-SAT-DFW', '873-SAT-CLT', '2563-SAT-DFW', '321-EWR-PHX', '1051-EWR-ORD', '1078-EWR-DFW', '1175-EWR-DFW', '1451-EWR-CLT', '1301-EWR-MIA', '1364-EWR-CLT', '1458-EWR-PHX', '1537-EWR-DFW', '1037-EWR-MIA', '1598-EWR-CLT', '1614-EWR-MIA', '1615-EWR-CLT', '2321-EWR-DFW', '2404-EWR-ORD', '2262-EWR-DFW', '2531-EWR-CLT', '2548-EWR-PHX', '2483-EWR-CLT', '1866-EWR-CLT', '2578-EWR-ORD', '373-EWR-MIA', '379-EWR-CLT', '609-EWR-CLT', '1049-BWI-MIA', '1106-BWI-DFW', '1437-BWI-MIA', '1506-BWI-DFW', '1351-BWI-DFW', '1468-BWI-PHX', '2248-BWI-DFW', '2519-BWI-PHX', '1798-BWI-CLT', '1809-BWI-CLT', '1817-BWI-CLT', '1831-BWI-CLT', '1958-BWI-PHX', '2021-BWI-CLT', '2046-BWI-CLT', '600-BWI-CLT', '1681-BWI-CLT', '1052-RDU-DFW', '1160-RDU-ORD', '1266-RDU-MIA', '173-RDU-DFW', '955-RDU-MIA', '1349-RDU-DFW', '1455-RDU-DFW', '1559-RDU-ORD', '1521-RDU-MIA', '1539-RDU-ORD', '1015-RDU-LAX', '2428-RDU-DFW', '1745-RDU-CLT', '1902-RDU-PHL', '1946-RDU-CLT', '1971-RDU-PHL', '1977-RDU-CLT', '2011-RDU-CLT', '2025-RDU-PHL', '2043-RDU-CLT', '2067-RDU-CLT', '2069-RDU-CLT', '2071-RDU-PHL', '2083-RDU-CLT', '2601-RDU-ORD', '657-RDU-CLT', '1669-RDU-LGA', '1689-RDU-PHL', '1055-TPA-MIA', '1186-TPA-ORD', '1198-TPA-DFW', '971-TPA-DFW', '1421-TPA-ORD', '1394-TPA-MIA', '1339-TPA-DFW', '1514-TPA-ORD', '2459-TPA-MIA', '2465-TPA-MIA', '2456-TPA-DFW', '2528-TPA-MIA', '2558-TPA-DFW', '2488-TPA-DFW', '2624-TPA-DFW', '1757-TPA-PHL', '1815-TPA-CLT', '1835-TPA-CLT', '1841-TPA-DCA', '1842-TPA-CLT', '1855-TPA-CLT', '1992-TPA-CLT', '2064-TPA-CLT', '2077-TPA-DCA', '2081-TPA-PHL', '582-TPA-PHX', '712-TPA-DCA', '713-TPA-CLT', '730-TPA-CLT', '804-TPA-PHX', '814-TPA-PHL', '1691-TPA-CLT', '1059-ONT-DFW', '1115-ONT-DFW', '1412-ONT-DFW', '1505-ONT-DFW', '1598-ONT-PHX', '2340-ONT-PHX', '2542-ONT-DFW', '1712-ONT-PHX', '1060-TUL-DFW', '1292-TUL-DFW', '1255-TUL-DFW', '1314-TUL-DFW', '1326-TUL-ORD', '2236-TUL-DFW', '2665-TUL-DFW', '391-TUL-DFW', '1065-BNA-DFW', '1191-BNA-DFW', '1439-BNA-DFW', '2242-BNA-DFW', '2259-BNA-DFW', '2398-BNA-DFW', '2551-BNA-DFW', '443-BNA-LAX', '1726-BNA-CLT', '1750-BNA-CLT', '1903-BNA-CLT', '1927-BNA-CLT', '1945-BNA-CLT', '2076-BNA-LAX', '2348-BNA-DFW', '821-BNA-CLT', '1673-BNA-CLT', '1135-DSM-DFW', '2232-DSM-DFW', '523-DSM-PHX', '534-DSM-PHX', '1218-RNO-DFW', '1441-RNO-DFW', '1361-RNO-ORD', '412-RNO-PHX', '594-RNO-PHX', '665-RNO-PHX', '1676-RNO-PHX', '1192-BDL-LAX', '1581-BDL-DFW', '2269-BDL-ORD', '1715-BDL-CLT', '1837-BDL-CLT', '1849-BDL-CLT', '1871-BDL-CLT', '1912-BDL-CLT', '1922-BDL-CLT', '2090-BDL-PHL', '2606-BDL-DFW', '1200-SMF-DFW', '1209-SMF-DFW', '1126-SMF-DFW', '1320-SMF-PHX', '1467-SMF-PHX', '2228-SMF-DFW', '2390-SMF-PHX', '2672-SMF-ORD', '476-SMF-CLT', '564-SMF-PHX', '593-SMF-PHX', '1201-FAT-DFW', '2533-FAT-DFW', '1286-OMA-DFW', '2209-OMA-DFW', '2308-OMA-DFW', '485-OMA-LAX', '599-OMA-PHX', '625-OMA-PHX', '1291-MKE-DFW', '1534-MKE-DFW', '2297-MKE-DFW', '2585-MKE-DFW', '627-MKE-PHX', '647-MKE-PHX', '1251-SDF-DFW', '1252-PIT-DFW', '1426-PIT-DFW', '2458-PIT-DFW', '1752-PIT-CLT', '1760-PIT-CLT', '1834-PIT-CLT', '1933-PIT-PHL', '1941-PIT-CLT', '1957-PIT-CLT', '2007-PIT-PHL', '525-PIT-CLT', '528-PIT-PHX', '531-PIT-PHX', '673-PIT-CLT', '727-PIT-LAX', '1658-PIT-DFW', '1270-RSW-DFW', '1012-RSW-DFW', '1018-RSW-ORD', '400-RSW-CLT', '1812-RSW-CLT', '2018-RSW-PHL', '2057-RSW-CLT', '655-RSW-CLT', '938-CMH-DFW', '2430-CMH-DFW', '2263-CMH-DFW', '449-CMH-PHX', '2487-CMH-DFW', '2347-CMH-DFW', '586-CMH-PHX', '659-CMH-LAX', '943-STT-MIA', '1350-STT-MIA', '1608-STT-CLT', '2421-STT-MIA', '1293-STX-MIA', '1423-PBI-DFW', '2306-PBI-DFW', '2257-PBI-ORD', '413-PBI-CLT', '1730-PBI-CLT', '1810-PBI-CLT', '1880-PBI-DCA', '513-PBI-CLT', '782-PBI-PHL', '1685-PBI-PHL', '1330-ELP-DFW', '1531-ELP-DFW', '2309-ELP-DFW', '2310-ELP-DFW', '2613-ELP-DFW', '1528-PSP-DFW', '2181-AMA-DFW', '2186-PNS-DFW', '2208-CLE-DFW', '2197-CLE-DFW', '2364-CLE-DFW', '1784-CLE-CLT', '1848-CLE-DFW', '1909-CLE-CLT', '765-CLE-CLT', '1652-CLE-CLT', '2216-XNA-DFW', '2313-MFE-DFW', '2316-MFE-DFW', '2384-MFE-DFW', '2314-RIC-DFW', '2324-RIC-DFW', '1734-RIC-CLT', '1802-RIC-CLT', '1825-RIC-CLT', '1953-RIC-CLT', '1988-RIC-CLT', '2608-RIC-DFW', '1654-RIC-CLT', '2402-ICT-DFW', '2407-ICT-DFW', '2392-ICT-DFW', '2451-HOU-DFW', '2514-HOU-DFW', '2484-HOU-DFW', '2668-DAY-DFW', '406-OAK-PHX', '1928-OAK-PHX', '634-OAK-PHX', '2616-JAC-DFW', '2620-JAC-DFW', '2631-JAC-ORD', '2622-EGE-DFW', '1722-ILM-CLT', '1821-ILM-CLT', '1906-ILM-CLT', '2054-ILM-CLT', '1758-PVD-PHL', '1919-PVD-PHL', '1961-PVD-CLT', '2035-PVD-CLT', '840-PVD-CLT', '1653-PVD-CLT', '1770-BUF-CLT', '1789-BUF-CLT', '1987-BUF-CLT', '858-BUF-CLT', '1793-SYR-CLT', '2065-SYR-CLT', '1797-MDT-CLT', '1807-CHS-CLT', '2063-CHS-CLT', '1814-ALB-CLT', '1895-ALB-CLT', '2006-ALB-CLT', '1832-PWM-CLT', '1859-PWM-CLT', '1861-GSO-CLT', '1867-ROC-CLT', '1868-ROC-CLT', '2084-BOI-PHX', '514-BOI-PHX', '592-BOI-PHX', '621-BOI-DFW', '2357-LBB-DFW', '2571-ANC-DFW', '483-GEG-PHX', '490-GEG-PHX']\n"
     ]
    }
   ],
   "source": [
    "# Solution\n",
    "print(f\"Flights: {flights}\")"
   ]
  },
  {
   "cell_type": "markdown",
   "metadata": {},
   "source": [
    "* While we're here, let's make sure we have the right number of flights in the variable `flights`:"
   ]
  },
  {
   "cell_type": "code",
   "execution_count": null,
   "metadata": {},
   "outputs": [],
   "source": []
  },
  {
   "cell_type": "code",
   "execution_count": 9,
   "metadata": {
    "tags": [
     "solution"
    ]
   },
   "outputs": [
    {
     "name": "stdout",
     "output_type": "stream",
     "text": [
      "Number of flights: 2607\n"
     ]
    }
   ],
   "source": [
    "# Solution\n",
    "print(f\"Number of flights: {len(flights)}\")"
   ]
  },
  {
   "cell_type": "markdown",
   "metadata": {},
   "source": [
    "- We also want to easily access the origin, destination, departure time, arrival time, and distance for each flight\n",
    "\n",
    "\n",
    "- These correspond to the columns in our DataFrame `df`\n",
    "\n",
    "\n",
    "- We can convert DataFrame columns to dictionaries as using the `.to_dict()` on the column of interest, like this:"
   ]
  },
  {
   "cell_type": "code",
   "execution_count": null,
   "metadata": {},
   "outputs": [],
   "source": []
  },
  {
   "cell_type": "code",
   "execution_count": 10,
   "metadata": {
    "tags": [
     "solution"
    ]
   },
   "outputs": [],
   "source": [
    "# Solution\n",
    "origin = df['ORIGIN'].to_dict()\n",
    "destination = df['DEST'].to_dict()\n",
    "departure_time = df['DEP_TIME'].to_dict()\n",
    "arrival_time = df['ARR_TIME'].to_dict()\n",
    "distance = df['DISTANCE'].to_dict()"
   ]
  },
  {
   "cell_type": "markdown",
   "metadata": {},
   "source": [
    "- As a result, we can access information about each flight through these dictionaries as follows:"
   ]
  },
  {
   "cell_type": "code",
   "execution_count": null,
   "metadata": {},
   "outputs": [],
   "source": [
    "# Information about flight 1240-BOS-ORD\n",
    "print(f\"Origin: { }\")\n",
    "print(f\"Destination: { }\")\n",
    "print(f\"Departure time: { }\")\n",
    "print(f\"Arrival time: { }\")\n",
    "print(f\"Distance: { }\")"
   ]
  },
  {
   "cell_type": "code",
   "execution_count": 11,
   "metadata": {
    "tags": [
     "solution"
    ]
   },
   "outputs": [
    {
     "name": "stdout",
     "output_type": "stream",
     "text": [
      "Origin: BOS\n",
      "Destination: ORD\n",
      "Departure time: 2016-09-01 12:15:00\n",
      "Arrival time: 2016-09-01 15:05:00\n",
      "Distance: 867.0\n"
     ]
    }
   ],
   "source": [
    "# Solution\n",
    "# Information about flight 1240-BOS-ORD\n",
    "print(f\"Origin: {origin['1240-BOS-ORD']}\")\n",
    "print(f\"Destination: {destination['1240-BOS-ORD']}\")\n",
    "print(f\"Departure time: {departure_time['1240-BOS-ORD']}\")\n",
    "print(f\"Arrival time: {arrival_time['1240-BOS-ORD']}\")\n",
    "print(f\"Distance: {distance['1240-BOS-ORD']}\")"
   ]
  },
  {
   "cell_type": "markdown",
   "metadata": {},
   "source": [
    "## Setting up the shortest path problem in NetworkX "
   ]
  },
  {
   "cell_type": "markdown",
   "metadata": {},
   "source": [
    "* Now we're ready to set up the shortest path problem we formulated above\n",
    "\n",
    "* First, let's import `networkx` and `bellmanford` so we can use them:"
   ]
  },
  {
   "cell_type": "code",
   "execution_count": 12,
   "metadata": {},
   "outputs": [],
   "source": [
    "import networkx as nx\n",
    "import bellmanford as bf"
   ]
  },
  {
   "cell_type": "markdown",
   "metadata": {},
   "source": [
    "### Adding nodes"
   ]
  },
  {
   "cell_type": "markdown",
   "metadata": {},
   "source": [
    "* Let's build the shortest path graph, starting with an empty directed graph:"
   ]
  },
  {
   "cell_type": "code",
   "execution_count": null,
   "metadata": {},
   "outputs": [],
   "source": []
  },
  {
   "cell_type": "code",
   "execution_count": 13,
   "metadata": {
    "tags": [
     "solution"
    ]
   },
   "outputs": [],
   "source": [
    "# Solution\n",
    "G = nx.DiGraph()"
   ]
  },
  {
   "cell_type": "markdown",
   "metadata": {},
   "source": [
    "* Next, let's create a \"start\" and \"end\" node"
   ]
  },
  {
   "cell_type": "code",
   "execution_count": null,
   "metadata": {},
   "outputs": [],
   "source": []
  },
  {
   "cell_type": "code",
   "execution_count": 14,
   "metadata": {
    "tags": [
     "solution"
    ]
   },
   "outputs": [],
   "source": [
    "# Solution\n",
    "G.add_node(\"start\")\n",
    "G.add_node(\"end\")"
   ]
  },
  {
   "cell_type": "markdown",
   "metadata": {},
   "source": [
    "* Now, we need to add a node for each flight, or each row of our database"
   ]
  },
  {
   "cell_type": "code",
   "execution_count": null,
   "metadata": {},
   "outputs": [],
   "source": []
  },
  {
   "cell_type": "code",
   "execution_count": 15,
   "metadata": {
    "tags": [
     "solution"
    ]
   },
   "outputs": [],
   "source": [
    "# Solution\n",
    "for flight in flights:\n",
    "    G.add_node(flight)"
   ]
  },
  {
   "cell_type": "markdown",
   "metadata": {},
   "source": [
    "* The `.number_of_nodes()` method applied to a NetworkX graph &mdash; well, you can guess what it does\n",
    "\n",
    "\n",
    "* Or, you can just try it out:"
   ]
  },
  {
   "cell_type": "code",
   "execution_count": 16,
   "metadata": {
    "tags": []
   },
   "outputs": [
    {
     "name": "stdout",
     "output_type": "stream",
     "text": [
      "2609\n"
     ]
    }
   ],
   "source": [
    "# Print number of nodes in G\n",
    "print(G.number_of_nodes())"
   ]
  },
  {
   "cell_type": "markdown",
   "metadata": {},
   "source": [
    "### Adding edges"
   ]
  },
  {
   "cell_type": "markdown",
   "metadata": {},
   "source": [
    "* Now we can go over every pair of flight nodes, and check if we need to add an edge between them\n",
    "    - Remember the length of these edges is the <span class=\"rred\">negative</span> of the distance of the first flight\n",
    "\n",
    "\n",
    "* To add or subtract times, we need to use `pd.to_timedelta()` &mdash; [here is the documentation](http://pandas.pydata.org/pandas-docs/stable/generated/pandas.to_timedelta.html)\n",
    "    - For example, to subtract 30 minutes, we would write \n",
    "    ```python\n",
    "    some_time_variable - pd.to_timedelta(30, unit=\"m\")\n",
    "    ```\n",
    "\n",
    "\n",
    "* This might seem awkward, but if you think about it, working with dates and time _is_ awkward &mdash; you need to keep track of different (non-base-10) units"
   ]
  },
  {
   "cell_type": "code",
   "execution_count": null,
   "metadata": {},
   "outputs": [],
   "source": [
    "# Iterate through every pair of flight nodes\n",
    "        \n",
    "        # If the first flight arrives where the second flight departs...\n",
    "            \n",
    "            # And if the first flight arrives 45 minutes before the second flight leaves,\n",
    "            # add an edge from the first flight to the second\n"
   ]
  },
  {
   "cell_type": "code",
   "execution_count": 17,
   "metadata": {
    "tags": [
     "solution"
    ]
   },
   "outputs": [],
   "source": [
    "# Solution\n",
    "# Iterate through every pair of flight nodes\n",
    "for first in flights:\n",
    "    for second in flights:\n",
    "        \n",
    "        # If the first flight arrives where the second flight departs...\n",
    "        if (destination[first] == origin[second]):\n",
    "            \n",
    "            # And if the first flight arrives 45 minutes before the second flight leaves,\n",
    "            # add an edge from the first flight to the second\n",
    "            if (arrival_time[first] + pd.to_timedelta(45, unit=\"m\") < departure_time[second]):\n",
    "                G.add_edge(first, second, length=-distance[first])"
   ]
  },
  {
   "cell_type": "markdown",
   "metadata": {},
   "source": [
    "* Finally, we need to add edges:\n",
    "    - from the start node to all flights departing from BWI\n",
    "    - from all flights arriving at LAX to the end node"
   ]
  },
  {
   "cell_type": "code",
   "execution_count": null,
   "metadata": {},
   "outputs": [],
   "source": [
    "# Iterate through all flights\n",
    "\n",
    "    # If the flight departs from BWI, \n",
    "    # add an edge from start to this flight\n",
    "        \n",
    "    # If the flight arrives at LAX, \n",
    "    # add an edge from this flight to end\n"
   ]
  },
  {
   "cell_type": "code",
   "execution_count": 18,
   "metadata": {
    "tags": [
     "solution"
    ]
   },
   "outputs": [],
   "source": [
    "# Solution\n",
    "# Iterate through all flights\n",
    "for flight in flights:\n",
    "\n",
    "    # If the flight departs from BWI, \n",
    "    # add an edge from start to this flight\n",
    "    if origin[flight] == \"BWI\":\n",
    "        G.add_edge(\"start\", flight, length=0)\n",
    "        \n",
    "    # If the flight arrives at LAX, \n",
    "    # add an edge from this flight to end\n",
    "    if destination[flight] == \"LAX\":\n",
    "        G.add_edge(flight, \"end\", length=-distance[flight])"
   ]
  },
  {
   "cell_type": "markdown",
   "metadata": {},
   "source": [
    "* Similar to `G.number_of_nodes()`, we can perform a sanity check with our work with `G.number_of_edges()`"
   ]
  },
  {
   "cell_type": "code",
   "execution_count": 19,
   "metadata": {},
   "outputs": [
    {
     "name": "stdout",
     "output_type": "stream",
     "text": [
      "158335\n"
     ]
    }
   ],
   "source": [
    "print(G.number_of_edges())"
   ]
  },
  {
   "cell_type": "markdown",
   "metadata": {},
   "source": [
    "## Solving the shortest path problem, interpreting the output"
   ]
  },
  {
   "cell_type": "markdown",
   "metadata": {},
   "source": [
    "* Now that we have our directed graph set up, we can solve for the shortest path from the start node to the end node just like we did in the last lesson:"
   ]
  },
  {
   "cell_type": "code",
   "execution_count": 20,
   "metadata": {
    "tags": []
   },
   "outputs": [
    {
     "name": "stdout",
     "output_type": "stream",
     "text": [
      "Negative cycle? False\n",
      "Shortest path length: -8005.0\n",
      "Shortest path: ['start', '1817-BWI-CLT', '658-CLT-LAS', '1584-LAS-PHX', '694-PHX-HNL', '298-HNL-LAX', 'end']\n"
     ]
    }
   ],
   "source": [
    "# Solve the shortest path problem using Bellman-Ford\n",
    "length, nodes, negative_cycle = bf.bellman_ford(G, source=\"start\", target=\"end\", weight=\"length\")\n",
    "\n",
    "# Print output from Bellman-Ford\n",
    "print(f\"Negative cycle? {negative_cycle}\")\n",
    "print(f\"Shortest path length: {length}\")\n",
    "print(f\"Shortest path: {nodes}\")"
   ]
  },
  {
   "cell_type": "markdown",
   "metadata": {},
   "source": [
    "* What does the output tell us about how to solve Professor Wright's problem?"
   ]
  },
  {
   "cell_type": "markdown",
   "metadata": {},
   "source": [
    "_Write your notes here. Double-click to edit._"
   ]
  },
  {
   "cell_type": "markdown",
   "metadata": {
    "tags": [
     "solution"
    ]
   },
   "source": [
    "_Solution._\n",
    "\n",
    "- The length of the shortest path is the negative of the maximum total distance Professor Wright can travel from BWI to LAX. In this case, the maximum total distance is 8005 miles.\n",
    "\n",
    "- The nodes in the shortest path tells us which flights Professor Wright should take:\n",
    "    - 1817 from BWI to CLT\n",
    "    - 658 from CLT to LAS\n",
    "    - 1584 from LAS to PHX\n",
    "    - 694 from PHX to HNL\n",
    "    - 298 from HNL to LAX"
   ]
  },
  {
   "cell_type": "markdown",
   "metadata": {},
   "source": [
    "## On your own..."
   ]
  },
  {
   "cell_type": "markdown",
   "metadata": {},
   "source": [
    "Suppose Professor Wright wants to find the longest itinerary from IAD (Washington DC - Dulles) to SAN (San Diego) instead.\n",
    "\n",
    "In the cell below, write the code that sets up and solves the shortest path formulation for her problem from start to finish.\n",
    "\n",
    "In the cell after, describe in words what the output from the Bellman-Ford algorithm tells you about how to solve Professor Wright's problem."
   ]
  },
  {
   "cell_type": "code",
   "execution_count": null,
   "metadata": {},
   "outputs": [],
   "source": []
  },
  {
   "cell_type": "code",
   "execution_count": 21,
   "metadata": {
    "tags": [
     "solution"
    ]
   },
   "outputs": [
    {
     "name": "stdout",
     "output_type": "stream",
     "text": [
      "Negative cycle? False\n",
      "Shortest path length: -6005.0\n",
      "Shortest path: ['start', '2636-IAD-LAX', '2503-LAX-ORD', '2375-ORD-DFW', '435-DFW-SAN', 'end']\n"
     ]
    }
   ],
   "source": [
    "# Solution\n",
    "# Import packages\n",
    "import pandas as pd\n",
    "import networkx as nx\n",
    "import bellmanford as bf\n",
    "\n",
    "# Read csv file into a DataFrame\n",
    "# Designate departure and arrival time columns as dates\n",
    "df = pd.read_csv('aa_domestic_flights.csv', parse_dates=['DEP_TIME', 'ARR_TIME'])\n",
    "\n",
    "# Create empty networkx digraph\n",
    "G = nx.DiGraph()\n",
    "\n",
    "# Create start and end nodes\n",
    "G.add_node(\"start\")\n",
    "G.add_node(\"end\")\n",
    "\n",
    "# Add a node for each flight\n",
    "for flight in flights:\n",
    "    G.add_node(flight)\n",
    "    \n",
    "# Iterate through every pair of flight nodes\n",
    "for first in flights:\n",
    "    for second in flights:\n",
    "        \n",
    "        # If the first flight arrives where the second flight departs...\n",
    "        if (destination[first] == origin[second]):\n",
    "            \n",
    "            # And if the first flight arrives 45 minutes before the second flight leaves,\n",
    "            # add an edge from the first flight to the second\n",
    "            if (arrival_time[first] + pd.to_timedelta(45, unit=\"m\") < departure_time[second]):\n",
    "                G.add_edge(first, second, length=-distance[first])\n",
    "\n",
    "# Iterate through all flights\n",
    "for flight in flights:\n",
    "\n",
    "    # If the flight departs from IAD, \n",
    "    # add an edge from start to this flight\n",
    "    if origin[flight] == \"IAD\":\n",
    "        G.add_edge(\"start\", flight, length=0)\n",
    "        \n",
    "    # If the flight arrives at SAN, \n",
    "    # add an edge from this flight to end\n",
    "    if destination[flight] == \"SAN\":\n",
    "        G.add_edge(flight, \"end\", length=-distance[flight])\n",
    "        \n",
    "# Solve the shortest path problem using Bellman-Ford\n",
    "length, nodes, negative_cycle = bf.bellman_ford(G, source=\"start\", target=\"end\", weight=\"length\")\n",
    "\n",
    "# Print output from Bellman-Ford\n",
    "print(f\"Negative cycle? {negative_cycle}\")\n",
    "print(f\"Shortest path length: {length}\")\n",
    "print(f\"Shortest path: {nodes}\")"
   ]
  },
  {
   "cell_type": "markdown",
   "metadata": {},
   "source": [
    "_Write your notes here. Double-click to edit._"
   ]
  },
  {
   "cell_type": "markdown",
   "metadata": {
    "tags": [
     "solution"
    ]
   },
   "source": [
    "_Solution._\n",
    "\n",
    "- The length of the shortest path is the negative of the maximum total distance Professor Wright can travel from IAD to SAN. In this case, the maximum total distance is 6005 miles.\n",
    "\n",
    "- The nodes in the shortest path tells us which flights Professor Wright should take:\n",
    "    - 2636 from IAD to LAX\n",
    "    - 2503 from LAX to ORD\n",
    "    - 2375 from ORD to DFW\n",
    "    - 435 from DFW to SAN"
   ]
  }
 ],
 "metadata": {
  "kernelspec": {
   "display_name": "Python 3 (ipykernel)",
   "language": "python",
   "name": "python3"
  },
  "language_info": {
   "codemirror_mode": {
    "name": "ipython",
    "version": 3
   },
   "file_extension": ".py",
   "mimetype": "text/x-python",
   "name": "python",
   "nbconvert_exporter": "python",
   "pygments_lexer": "ipython3",
   "version": "3.8.10"
  },
  "latex_metadata": {
   "title": "Lesson 4. The Mileage Running Problem"
  },
  "toc-showcode": false,
  "toc-showmarkdowntxt": false,
  "toc-showtags": true
 },
 "nbformat": 4,
 "nbformat_minor": 4
}
