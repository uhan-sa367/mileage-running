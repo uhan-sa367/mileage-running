{
 "cells": [
  {
   "cell_type": "markdown",
   "metadata": {
    "hide_cell": true
   },
   "source": [
    "**SA367 &#x25aa; Mathematical Models for Decision Making &#x25aa; Spring 2022 &#x25aa; Uhan**"
   ]
  },
  {
   "cell_type": "markdown",
   "metadata": {
    "hide_cell": true
   },
   "source": [
    "# Lesson 4. The Mileage Running Problem"
   ]
  },
  {
   "cell_type": "markdown",
   "metadata": {},
   "source": [
    "## The problem"
   ]
  },
  {
   "cell_type": "markdown",
   "metadata": {},
   "source": [
    "Professor May B. Wright needs to fly from Baltimore (BWI) to Los Angeles (LAX) to attend a conference.\n",
    "She thinks this would be the perfect opportunity to accumulate some frequent flyer miles on American Airlines (AA), where she already has Platinum status.\n",
    "\n",
    "Looking into flights on AA, she sees that every itinerary from BWI to LAX costs roughly the same.\n",
    "She has a full day to spare for travel, so she wants to know: which sequence of AA domestic flights starting at BWI and ending at LAX over the course of one day will allow her to accumulate the most miles?"
   ]
  },
  {
   "cell_type": "markdown",
   "metadata": {},
   "source": [
    "* Yes, people actually do this. This is known as __mileage running__. \n",
    "    - Apparently, this has become harder to do in recent years.\n",
    "    - [A somewhat recent article from the New York Times](https://www.nytimes.com/2014/09/14/upshot/the-fadeout-of-the-mileage-run.html).\n",
    "    - [An older article from Wired](https://www.wired.com/2007/07/mileage-runner/)."
   ]
  },
  {
   "cell_type": "markdown",
   "metadata": {},
   "source": [
    "## Modeling the problem"
   ]
  },
  {
   "cell_type": "markdown",
   "metadata": {},
   "source": [
    "* Suppose we have a database of every AA domestic flight on a given day.\n",
    "\n",
    "* In particular, for each flight, we have:\n",
    "    - the flight number\n",
    "    - the origin airport\n",
    "    - the destination airport\n",
    "    - the departure time at the origin airport\n",
    "    - the arrival time at the destination airport\n",
    "    - the distance traveled in miles\n",
    "\n",
    "* How can we formulate Professor Wright's problem as a shortest path problem?"
   ]
  },
  {
   "cell_type": "markdown",
   "metadata": {},
   "source": [
    "## pandas (the package, not the animals)"
   ]
  },
  {
   "cell_type": "markdown",
   "metadata": {},
   "source": [
    "* In the same folder as this notebook, there is a file called `aa_domestic_flights.csv` with the database described above.\n",
    "\n",
    "* `.csv` stands for __comma-separated values__.\n",
    "\n",
    "* We can view `.csv` files in Excel - let's see what's in this file. _Cut to Excel..._"
   ]
  },
  {
   "cell_type": "markdown",
   "metadata": {},
   "source": [
    "* How can we use this data in Python? With __pandas__.\n",
    "\n",
    "* pandas is a Python package for data analysis. \n",
    "    - It's especially useful for cleaning and manipulating datasets.\n",
    "\n",
    "* pandas does a lot of stuff &mdash; [here is the official documentation for pandas](http://pandas.pydata.org/pandas-docs/stable/index.html).\n",
    "    \n",
    "* In this lesson, we'll use pandas in a very basic way to set up the shortest path problem we formulated above."
   ]
  },
  {
   "cell_type": "markdown",
   "metadata": {},
   "source": [
    "* To use pandas, we first need to import it, like this:"
   ]
  },
  {
   "cell_type": "code",
   "execution_count": 2,
   "metadata": {},
   "outputs": [],
   "source": [
    "import pandas as pd"
   ]
  },
  {
   "cell_type": "markdown",
   "metadata": {},
   "source": [
    "* A pandas __DataFrame__ is just a two-dimensional table, with rows and columns.\n",
    "\n",
    "* We can use the `read_csv()` function in pandas to read `aa_domestic_flights.csv` into a DataFrame called `df`, like this:"
   ]
  },
  {
   "cell_type": "code",
   "execution_count": 3,
   "metadata": {},
   "outputs": [],
   "source": [
    "# Read csv file into a DataFrame\n",
    "# Designate departure and arrival time columns as dates\n",
    "df = pd.read_csv('aa_domestic_flights.csv', parse_dates=['DEP_TIME', 'ARR_TIME'])"
   ]
  },
  {
   "cell_type": "markdown",
   "metadata": {},
   "source": [
    "* By default, `read_csv()` assumes the first row of the csv file contains the names of each column.\n",
    "\n",
    "* The `parse_dates` argument tells `read_csv()` which columns correspond to dates, so that we can perform date-specific calculations on these columns later.\n",
    "\n",
    "* [Here is the official documentation for `read_csv()`.](http://pandas.pydata.org/pandas-docs/stable/generated/pandas.read_csv.html)"
   ]
  },
  {
   "cell_type": "markdown",
   "metadata": {},
   "source": [
    "* It's a good idea to take a quick look at the DataFrame `read_csv()` creates, just in case something went wrong.\n",
    "\n",
    "* To examine the first 5 rows of a DataFrame, we can use the `.head()` method:"
   ]
  },
  {
   "cell_type": "code",
   "execution_count": null,
   "metadata": {},
   "outputs": [],
   "source": [
    "# Print the first 5 rows of df\n"
   ]
  },
  {
   "cell_type": "code",
   "execution_count": 4,
   "metadata": {
    "scrolled": true
   },
   "outputs": [
    {
     "data": {
      "text/html": [
       "<div>\n",
       "<style scoped>\n",
       "    .dataframe tbody tr th:only-of-type {\n",
       "        vertical-align: middle;\n",
       "    }\n",
       "\n",
       "    .dataframe tbody tr th {\n",
       "        vertical-align: top;\n",
       "    }\n",
       "\n",
       "    .dataframe thead th {\n",
       "        text-align: right;\n",
       "    }\n",
       "</style>\n",
       "<table border=\"1\" class=\"dataframe\">\n",
       "  <thead>\n",
       "    <tr style=\"text-align: right;\">\n",
       "      <th></th>\n",
       "      <th>FLIGHT</th>\n",
       "      <th>ORIGIN</th>\n",
       "      <th>DEST</th>\n",
       "      <th>DEP_TIME</th>\n",
       "      <th>ARR_TIME</th>\n",
       "      <th>DISTANCE</th>\n",
       "    </tr>\n",
       "  </thead>\n",
       "  <tbody>\n",
       "    <tr>\n",
       "      <th>0</th>\n",
       "      <td>1-BOS-JFK</td>\n",
       "      <td>BOS</td>\n",
       "      <td>JFK</td>\n",
       "      <td>2016-09-01 06:00:00</td>\n",
       "      <td>2016-09-01 07:15:00</td>\n",
       "      <td>187.0</td>\n",
       "    </tr>\n",
       "    <tr>\n",
       "      <th>1</th>\n",
       "      <td>40-BOS-ORD</td>\n",
       "      <td>BOS</td>\n",
       "      <td>ORD</td>\n",
       "      <td>2016-09-01 19:12:00</td>\n",
       "      <td>2016-09-01 22:02:00</td>\n",
       "      <td>867.0</td>\n",
       "    </tr>\n",
       "    <tr>\n",
       "      <th>2</th>\n",
       "      <td>147-BOS-LAX</td>\n",
       "      <td>BOS</td>\n",
       "      <td>LAX</td>\n",
       "      <td>2016-09-01 15:15:00</td>\n",
       "      <td>2016-09-01 21:45:00</td>\n",
       "      <td>2611.0</td>\n",
       "    </tr>\n",
       "    <tr>\n",
       "      <th>3</th>\n",
       "      <td>197-BOS-ORD</td>\n",
       "      <td>BOS</td>\n",
       "      <td>ORD</td>\n",
       "      <td>2016-09-01 15:30:00</td>\n",
       "      <td>2016-09-01 18:24:00</td>\n",
       "      <td>867.0</td>\n",
       "    </tr>\n",
       "    <tr>\n",
       "      <th>4</th>\n",
       "      <td>198-BOS-JFK</td>\n",
       "      <td>BOS</td>\n",
       "      <td>JFK</td>\n",
       "      <td>2016-09-01 13:10:00</td>\n",
       "      <td>2016-09-01 14:31:00</td>\n",
       "      <td>187.0</td>\n",
       "    </tr>\n",
       "  </tbody>\n",
       "</table>\n",
       "</div>"
      ],
      "text/plain": [
       "        FLIGHT ORIGIN DEST            DEP_TIME            ARR_TIME  DISTANCE\n",
       "0    1-BOS-JFK    BOS  JFK 2016-09-01 06:00:00 2016-09-01 07:15:00     187.0\n",
       "1   40-BOS-ORD    BOS  ORD 2016-09-01 19:12:00 2016-09-01 22:02:00     867.0\n",
       "2  147-BOS-LAX    BOS  LAX 2016-09-01 15:15:00 2016-09-01 21:45:00    2611.0\n",
       "3  197-BOS-ORD    BOS  ORD 2016-09-01 15:30:00 2016-09-01 18:24:00     867.0\n",
       "4  198-BOS-JFK    BOS  JFK 2016-09-01 13:10:00 2016-09-01 14:31:00     187.0"
      ]
     },
     "execution_count": 4,
     "metadata": {},
     "output_type": "execute_result"
    }
   ],
   "source": [
    "# Solution\n",
    "# Print the first 5 rows of df\n",
    "df.head()"
   ]
  },
  {
   "cell_type": "markdown",
   "metadata": {},
   "source": [
    "- The first column is the __index__ of the DataFrame. The index provides a label for each row of the DataFrame.\n",
    "\n",
    "- Right now, the index is sort of uninformative. \n",
    "\n",
    "- Since each row corresponds to a flight, it would be nice if the index corresponded to the flight names.\n",
    "\n",
    "- We can do this using the `.set_index()` method:"
   ]
  },
  {
   "cell_type": "code",
   "execution_count": null,
   "metadata": {},
   "outputs": [],
   "source": [
    "# Set the index to the flight names\n",
    "\n",
    "# Print the first 5 rows of df\n"
   ]
  },
  {
   "cell_type": "code",
   "execution_count": 5,
   "metadata": {},
   "outputs": [
    {
     "data": {
      "text/html": [
       "<div>\n",
       "<style scoped>\n",
       "    .dataframe tbody tr th:only-of-type {\n",
       "        vertical-align: middle;\n",
       "    }\n",
       "\n",
       "    .dataframe tbody tr th {\n",
       "        vertical-align: top;\n",
       "    }\n",
       "\n",
       "    .dataframe thead th {\n",
       "        text-align: right;\n",
       "    }\n",
       "</style>\n",
       "<table border=\"1\" class=\"dataframe\">\n",
       "  <thead>\n",
       "    <tr style=\"text-align: right;\">\n",
       "      <th></th>\n",
       "      <th>ORIGIN</th>\n",
       "      <th>DEST</th>\n",
       "      <th>DEP_TIME</th>\n",
       "      <th>ARR_TIME</th>\n",
       "      <th>DISTANCE</th>\n",
       "    </tr>\n",
       "    <tr>\n",
       "      <th>FLIGHT</th>\n",
       "      <th></th>\n",
       "      <th></th>\n",
       "      <th></th>\n",
       "      <th></th>\n",
       "      <th></th>\n",
       "    </tr>\n",
       "  </thead>\n",
       "  <tbody>\n",
       "    <tr>\n",
       "      <th>1-BOS-JFK</th>\n",
       "      <td>BOS</td>\n",
       "      <td>JFK</td>\n",
       "      <td>2016-09-01 06:00:00</td>\n",
       "      <td>2016-09-01 07:15:00</td>\n",
       "      <td>187.0</td>\n",
       "    </tr>\n",
       "    <tr>\n",
       "      <th>40-BOS-ORD</th>\n",
       "      <td>BOS</td>\n",
       "      <td>ORD</td>\n",
       "      <td>2016-09-01 19:12:00</td>\n",
       "      <td>2016-09-01 22:02:00</td>\n",
       "      <td>867.0</td>\n",
       "    </tr>\n",
       "    <tr>\n",
       "      <th>147-BOS-LAX</th>\n",
       "      <td>BOS</td>\n",
       "      <td>LAX</td>\n",
       "      <td>2016-09-01 15:15:00</td>\n",
       "      <td>2016-09-01 21:45:00</td>\n",
       "      <td>2611.0</td>\n",
       "    </tr>\n",
       "    <tr>\n",
       "      <th>197-BOS-ORD</th>\n",
       "      <td>BOS</td>\n",
       "      <td>ORD</td>\n",
       "      <td>2016-09-01 15:30:00</td>\n",
       "      <td>2016-09-01 18:24:00</td>\n",
       "      <td>867.0</td>\n",
       "    </tr>\n",
       "    <tr>\n",
       "      <th>198-BOS-JFK</th>\n",
       "      <td>BOS</td>\n",
       "      <td>JFK</td>\n",
       "      <td>2016-09-01 13:10:00</td>\n",
       "      <td>2016-09-01 14:31:00</td>\n",
       "      <td>187.0</td>\n",
       "    </tr>\n",
       "  </tbody>\n",
       "</table>\n",
       "</div>"
      ],
      "text/plain": [
       "            ORIGIN DEST            DEP_TIME            ARR_TIME  DISTANCE\n",
       "FLIGHT                                                                   \n",
       "1-BOS-JFK      BOS  JFK 2016-09-01 06:00:00 2016-09-01 07:15:00     187.0\n",
       "40-BOS-ORD     BOS  ORD 2016-09-01 19:12:00 2016-09-01 22:02:00     867.0\n",
       "147-BOS-LAX    BOS  LAX 2016-09-01 15:15:00 2016-09-01 21:45:00    2611.0\n",
       "197-BOS-ORD    BOS  ORD 2016-09-01 15:30:00 2016-09-01 18:24:00     867.0\n",
       "198-BOS-JFK    BOS  JFK 2016-09-01 13:10:00 2016-09-01 14:31:00     187.0"
      ]
     },
     "execution_count": 5,
     "metadata": {},
     "output_type": "execute_result"
    }
   ],
   "source": [
    "# Solution\n",
    "# Set the index to the flight names\n",
    "df = df.set_index(\"FLIGHT\")\n",
    "\n",
    "# Print the first 5 rows of df\n",
    "df.head()"
   ]
  },
  {
   "cell_type": "markdown",
   "metadata": {},
   "source": [
    "* A column by itself is called a **Series**.\n",
    "\n",
    "* You can select the Series `DEST` of the DataFrame `df` like this:\n",
    "\n",
    "```python\n",
    "df[\"DEST\"]\n",
    "```\n",
    "\n",
    "* So, to print the Series `DEST`, we could write:"
   ]
  },
  {
   "cell_type": "code",
   "execution_count": null,
   "metadata": {},
   "outputs": [],
   "source": [
    "# Print the DEST column\n"
   ]
  },
  {
   "cell_type": "code",
   "execution_count": 6,
   "metadata": {
    "scrolled": true
   },
   "outputs": [
    {
     "name": "stdout",
     "output_type": "stream",
     "text": [
      "FLIGHT\n",
      "1-BOS-JFK       JFK\n",
      "40-BOS-ORD      ORD\n",
      "147-BOS-LAX     LAX\n",
      "197-BOS-ORD     ORD\n",
      "198-BOS-JFK     JFK\n",
      "               ... \n",
      "621-BOI-DFW     DFW\n",
      "2357-LBB-DFW    DFW\n",
      "2571-ANC-DFW    DFW\n",
      "483-GEG-PHX     PHX\n",
      "490-GEG-PHX     PHX\n",
      "Name: DEST, Length: 2607, dtype: object\n"
     ]
    }
   ],
   "source": [
    "# Solution\n",
    "# Print the DEST column\n",
    "print(df[\"DEST\"])"
   ]
  },
  {
   "cell_type": "markdown",
   "metadata": {},
   "source": [
    "## Making the data easier to use"
   ]
  },
  {
   "cell_type": "markdown",
   "metadata": {},
   "source": [
    "- We have successfully imported our data into Python! \n",
    "\n",
    "- We could set up our shortest path problem using the DataFrame directly, but this would be a bit cumbersome.\n",
    "\n",
    "- Let's take some additional steps that will make setting up our shortest path problem a bit easier."
   ]
  },
  {
   "cell_type": "markdown",
   "metadata": {},
   "source": [
    "- First, let's get a list of the flights. This will be useful, since the nodes in our shortest path problem correspond to the flights.\n",
    "\n",
    "- In the DataFrame `df` we defined above, the index consists of the flights.\n",
    "\n",
    "- We can get a list of the index values of `df` with `list(df.index.values)`."
   ]
  },
  {
   "cell_type": "code",
   "execution_count": null,
   "metadata": {
    "scrolled": true
   },
   "outputs": [],
   "source": [
    "# List of flights\n"
   ]
  },
  {
   "cell_type": "code",
   "execution_count": 7,
   "metadata": {
    "scrolled": true
   },
   "outputs": [],
   "source": [
    "# Solution\n",
    "# List of flights\n",
    "flights = list(df.index.values)"
   ]
  },
  {
   "cell_type": "markdown",
   "metadata": {},
   "source": [
    "- Let's check our work and inspect `flights`:"
   ]
  },
  {
   "cell_type": "code",
   "execution_count": null,
   "metadata": {
    "scrolled": true
   },
   "outputs": [],
   "source": [
    "# Print flights\n"
   ]
  },
  {
   "cell_type": "code",
   "execution_count": null,
   "metadata": {},
   "outputs": [],
   "source": [
    "# Solution\n",
    "# Print flights\n",
    "print(f\"Flights: {flights}\")"
   ]
  },
  {
   "cell_type": "markdown",
   "metadata": {},
   "source": [
    "* While we're here, let's make sure we have the right number of flights in the variable `flights`:"
   ]
  },
  {
   "cell_type": "code",
   "execution_count": null,
   "metadata": {},
   "outputs": [],
   "source": []
  },
  {
   "cell_type": "code",
   "execution_count": 9,
   "metadata": {},
   "outputs": [
    {
     "name": "stdout",
     "output_type": "stream",
     "text": [
      "Number of flights: 2607\n"
     ]
    }
   ],
   "source": [
    "# Solution\n",
    "print(f\"Number of flights: {len(flights)}\")"
   ]
  },
  {
   "cell_type": "markdown",
   "metadata": {},
   "source": [
    "- We also want to easily access the origin, destination, departure time, arrival time, and distance for each flight.\n",
    "\n",
    "- These correspond to the columns in our DataFrame `df`.\n",
    "\n",
    "- We can convert DataFrame columns to dictionaries as using the `.to_dict()` on the column of interest, like this:"
   ]
  },
  {
   "cell_type": "code",
   "execution_count": null,
   "metadata": {},
   "outputs": [],
   "source": [
    "# Convert columns to dictionaries\n"
   ]
  },
  {
   "cell_type": "code",
   "execution_count": 10,
   "metadata": {},
   "outputs": [],
   "source": [
    "# Solution\n",
    "# Convert columns to dictionaries\n",
    "origin = df['ORIGIN'].to_dict()\n",
    "destination = df['DEST'].to_dict()\n",
    "departure_time = df['DEP_TIME'].to_dict()\n",
    "arrival_time = df['ARR_TIME'].to_dict()\n",
    "distance = df['DISTANCE'].to_dict()"
   ]
  },
  {
   "cell_type": "markdown",
   "metadata": {},
   "source": [
    "- As a result, we can access information about each flight through these dictionaries as follows:"
   ]
  },
  {
   "cell_type": "code",
   "execution_count": null,
   "metadata": {},
   "outputs": [],
   "source": [
    "# Information about flight 1240-BOS-ORD\n",
    "print(f\"Origin: { }\")\n",
    "print(f\"Destination: { }\")\n",
    "print(f\"Departure time: { }\")\n",
    "print(f\"Arrival time: { }\")\n",
    "print(f\"Distance: { }\")"
   ]
  },
  {
   "cell_type": "code",
   "execution_count": 11,
   "metadata": {},
   "outputs": [
    {
     "name": "stdout",
     "output_type": "stream",
     "text": [
      "Origin: BOS\n",
      "Destination: ORD\n",
      "Departure time: 2016-09-01 12:15:00\n",
      "Arrival time: 2016-09-01 15:05:00\n",
      "Distance: 867.0\n"
     ]
    }
   ],
   "source": [
    "# Solution\n",
    "# Information about flight 1240-BOS-ORD\n",
    "print(f\"Origin: {origin['1240-BOS-ORD']}\")\n",
    "print(f\"Destination: {destination['1240-BOS-ORD']}\")\n",
    "print(f\"Departure time: {departure_time['1240-BOS-ORD']}\")\n",
    "print(f\"Arrival time: {arrival_time['1240-BOS-ORD']}\")\n",
    "print(f\"Distance: {distance['1240-BOS-ORD']}\")"
   ]
  },
  {
   "cell_type": "markdown",
   "metadata": {},
   "source": [
    "## Setting up the shortest path problem in networkx"
   ]
  },
  {
   "cell_type": "markdown",
   "metadata": {},
   "source": [
    "* Now we're ready to set up the shortest path problem we formulated above.\n",
    "\n",
    "* First, let's import `networkx` and `bellmanford` so we can use them:"
   ]
  },
  {
   "cell_type": "code",
   "execution_count": 12,
   "metadata": {},
   "outputs": [],
   "source": [
    "import networkx as nx\n",
    "import bellmanford as bf"
   ]
  },
  {
   "cell_type": "markdown",
   "metadata": {},
   "source": [
    "### Adding nodes"
   ]
  },
  {
   "cell_type": "markdown",
   "metadata": {},
   "source": [
    "* Let's build the shortest path graph, starting with an empty directed graph:"
   ]
  },
  {
   "cell_type": "code",
   "execution_count": null,
   "metadata": {},
   "outputs": [],
   "source": [
    "# Create empty NetworkX digraph\n"
   ]
  },
  {
   "cell_type": "code",
   "execution_count": 13,
   "metadata": {},
   "outputs": [],
   "source": [
    "# Solution\n",
    "# Create empty NetworkX digraph\n",
    "G = nx.DiGraph()"
   ]
  },
  {
   "cell_type": "markdown",
   "metadata": {},
   "source": [
    "* Next, let's create a \"start\" and \"end\" node."
   ]
  },
  {
   "cell_type": "code",
   "execution_count": null,
   "metadata": {},
   "outputs": [],
   "source": [
    "# Create start and end nodes\n"
   ]
  },
  {
   "cell_type": "code",
   "execution_count": 14,
   "metadata": {},
   "outputs": [],
   "source": [
    "# Solution\n",
    "# Create start and end nodes\n",
    "G.add_node(\"start\")\n",
    "G.add_node(\"end\")"
   ]
  },
  {
   "cell_type": "markdown",
   "metadata": {},
   "source": [
    "* Now, we need to add a node for each flight, or each row of our database."
   ]
  },
  {
   "cell_type": "code",
   "execution_count": null,
   "metadata": {},
   "outputs": [],
   "source": [
    "# Add a node for each flight\n"
   ]
  },
  {
   "cell_type": "code",
   "execution_count": 15,
   "metadata": {},
   "outputs": [],
   "source": [
    "# Solution\n",
    "# Add a node for each flight\n",
    "for flight in flights:\n",
    "    G.add_node(flight)"
   ]
  },
  {
   "cell_type": "markdown",
   "metadata": {},
   "source": [
    "* The `.number_of_nodes()` method applied to a `networkx` graph &mdash; well, you can guess what it does. Or, you can just try it out:"
   ]
  },
  {
   "cell_type": "code",
   "execution_count": 16,
   "metadata": {
    "scrolled": true
   },
   "outputs": [
    {
     "name": "stdout",
     "output_type": "stream",
     "text": [
      "2609\n"
     ]
    }
   ],
   "source": [
    "# Print number of nodes in G\n",
    "print(G.number_of_nodes())"
   ]
  },
  {
   "cell_type": "markdown",
   "metadata": {},
   "source": [
    "### Adding edges"
   ]
  },
  {
   "cell_type": "markdown",
   "metadata": {},
   "source": [
    "* Now we can go over every pair of flight nodes, and check if we need to add an edge between them.\n",
    "    - Remember the length of these edges is the <span class=\"rred\">negative</span> of the distance of the first flight.\n",
    "\n",
    "* To add or subtract times, we need to use `pd.to_timedelta()` &mdash; [here is the documentation](http://pandas.pydata.org/pandas-docs/stable/generated/pandas.to_timedelta.html).\n",
    "    - For example, to subtract 30 minutes, we would write \n",
    "    ```python\n",
    "    some_time_variable - pd.to_timedelta(30, unit=\"m\")\n",
    "    ```\n",
    "\n",
    "* This might seem awkward, but if you think about it, working with dates and time _is_ awkward &mdash; you need to keep track of different (non-base-10) units."
   ]
  },
  {
   "cell_type": "code",
   "execution_count": null,
   "metadata": {},
   "outputs": [],
   "source": [
    "# Iterate through every pair of flight nodes\n",
    "        \n",
    "        # If the first flight arrives where the second flight departs...\n",
    "            \n",
    "            # And if the first flight arrives 45 minutes before the second flight leaves,\n",
    "            # add an edge from the first flight to the second\n"
   ]
  },
  {
   "cell_type": "code",
   "execution_count": 17,
   "metadata": {},
   "outputs": [],
   "source": [
    "# Solution\n",
    "# Iterate through every pair of flight nodes\n",
    "for first in flights:\n",
    "    for second in flights:\n",
    "        \n",
    "        # If the first flight arrives where the second flight departs...\n",
    "        if (destination[first] == origin[second]):\n",
    "            \n",
    "            # And if the first flight arrives 45 minutes before the second flight leaves,\n",
    "            # add an edge from the first flight to the second\n",
    "            if (arrival_time[first] + pd.to_timedelta(45, unit=\"m\") < departure_time[second]):\n",
    "                G.add_edge(first, second, length=-distance[first])"
   ]
  },
  {
   "cell_type": "markdown",
   "metadata": {},
   "source": [
    "* Finally, we need to add edges:\n",
    "    - from the start node to all flights departing from BWI, and\n",
    "    - from all flights arriving at LAX to the end node."
   ]
  },
  {
   "cell_type": "code",
   "execution_count": null,
   "metadata": {},
   "outputs": [],
   "source": [
    "# Iterate through all flights\n",
    "\n",
    "    # If the flight departs from BWI, \n",
    "    # add an edge from start to this flight\n",
    "        \n",
    "    # If the flight arrives at LAX, \n",
    "    # add an edge from this flight to end\n"
   ]
  },
  {
   "cell_type": "code",
   "execution_count": 18,
   "metadata": {},
   "outputs": [],
   "source": [
    "# Solution\n",
    "# Iterate through all flights\n",
    "for flight in flights:\n",
    "\n",
    "    # If the flight departs from BWI, \n",
    "    # add an edge from start to this flight\n",
    "    if origin[flight] == \"BWI\":\n",
    "        G.add_edge(\"start\", flight, length=0)\n",
    "        \n",
    "    # If the flight arrives at LAX, \n",
    "    # add an edge from this flight to end\n",
    "    if destination[flight] == \"LAX\":\n",
    "        G.add_edge(flight, \"end\", length=-distance[flight])"
   ]
  },
  {
   "cell_type": "markdown",
   "metadata": {},
   "source": [
    "* Similar to `G.number_of_nodes()`, we can perform a sanity check with our work with `G.number_of_edges()`."
   ]
  },
  {
   "cell_type": "code",
   "execution_count": 19,
   "metadata": {},
   "outputs": [
    {
     "name": "stdout",
     "output_type": "stream",
     "text": [
      "158335\n"
     ]
    }
   ],
   "source": [
    "# Print the number of edges in G\n",
    "print(G.number_of_edges())"
   ]
  },
  {
   "cell_type": "markdown",
   "metadata": {},
   "source": [
    "## Solving the shortest path problem, interpreting the output"
   ]
  },
  {
   "cell_type": "markdown",
   "metadata": {},
   "source": [
    "* Now that we have our directed graph set up, we can solve for the shortest path from the start node to the end node just like we did in the last lesson:"
   ]
  },
  {
   "cell_type": "code",
   "execution_count": 20,
   "metadata": {},
   "outputs": [
    {
     "name": "stdout",
     "output_type": "stream",
     "text": [
      "Negative cycle? False\n",
      "Shortest path length: -8005.0\n",
      "Shortest path: ['start', '1817-BWI-CLT', '658-CLT-LAS', '1584-LAS-PHX', '694-PHX-HNL', '298-HNL-LAX', 'end']\n"
     ]
    }
   ],
   "source": [
    "# Solve the shortest path problem using Bellman-Ford\n",
    "length, nodes, negative_cycle = bf.bellman_ford(G, source=\"start\", target=\"end\", weight=\"length\")\n",
    "\n",
    "# Print output from Bellman-Ford\n",
    "print(f\"Negative cycle? {negative_cycle}\")\n",
    "print(f\"Shortest path length: {length}\")\n",
    "print(f\"Shortest path: {nodes}\")"
   ]
  },
  {
   "cell_type": "markdown",
   "metadata": {},
   "source": [
    "* What does the output tell us about how to solve Professor Wright's problem?"
   ]
  },
  {
   "cell_type": "markdown",
   "metadata": {},
   "source": [
    "_Write your notes here. Double-click to edit._"
   ]
  },
  {
   "cell_type": "markdown",
   "metadata": {},
   "source": [
    "_Solution._\n",
    "\n",
    "- The length of the shortest path is the negative of the maximum total distance Professor Wright can travel from BWI to LAX. In this case, the maximum total distance is 8005 miles.\n",
    "\n",
    "- The nodes in the shortest path tells us which flights Professor Wright should take:\n",
    "    - 1817 from BWI to CLT\n",
    "    - 658 from CLT to LAS\n",
    "    - 1584 from LAS to PHX\n",
    "    - 694 from PHX to HNL\n",
    "    - 298 from HNL to LAX"
   ]
  },
  {
   "cell_type": "markdown",
   "metadata": {},
   "source": [
    "## On your own..."
   ]
  },
  {
   "cell_type": "markdown",
   "metadata": {},
   "source": [
    "Suppose Professor Wright wants to find the longest itinerary from IAD (Washington DC - Dulles) to SAN (San Diego) instead.\n",
    "\n",
    "In the cell below, write the code that sets up and solves the shortest path formulation for her problem from start to finish.\n",
    "\n",
    "In the cell after, describe in words what the output from the Bellman-Ford algorithm tells you about how to solve Professor Wright's problem."
   ]
  },
  {
   "cell_type": "code",
   "execution_count": null,
   "metadata": {},
   "outputs": [],
   "source": []
  },
  {
   "cell_type": "code",
   "execution_count": 21,
   "metadata": {},
   "outputs": [
    {
     "name": "stdout",
     "output_type": "stream",
     "text": [
      "Negative cycle? False\n",
      "Shortest path length: -6005.0\n",
      "Shortest path: ['start', '2636-IAD-LAX', '2503-LAX-ORD', '2375-ORD-DFW', '435-DFW-SAN', 'end']\n"
     ]
    }
   ],
   "source": [
    "# Solution\n",
    "# Import packages\n",
    "import pandas as pd\n",
    "import networkx as nx\n",
    "import bellmanford as bf\n",
    "\n",
    "# Read csv file into a DataFrame\n",
    "# Designate departure and arrival time columns as dates\n",
    "df = pd.read_csv('aa_domestic_flights.csv', parse_dates=['DEP_TIME', 'ARR_TIME'])\n",
    "\n",
    "# Create empty networkx digraph\n",
    "G = nx.DiGraph()\n",
    "\n",
    "# Create start and end nodes\n",
    "G.add_node(\"start\")\n",
    "G.add_node(\"end\")\n",
    "\n",
    "# Add a node for each flight\n",
    "for flight in flights:\n",
    "    G.add_node(flight)\n",
    "    \n",
    "# Iterate through every pair of flight nodes\n",
    "for first in flights:\n",
    "    for second in flights:\n",
    "        \n",
    "        # If the first flight arrives where the second flight departs...\n",
    "        if (destination[first] == origin[second]):\n",
    "            \n",
    "            # And if the first flight arrives 45 minutes before the second flight leaves,\n",
    "            # add an edge from the first flight to the second\n",
    "            if (arrival_time[first] + pd.to_timedelta(45, unit=\"m\") < departure_time[second]):\n",
    "                G.add_edge(first, second, length=-distance[first])\n",
    "\n",
    "# Iterate through all flights\n",
    "for flight in flights:\n",
    "\n",
    "    # If the flight departs from IAD, \n",
    "    # add an edge from start to this flight\n",
    "    if origin[flight] == \"IAD\":\n",
    "        G.add_edge(\"start\", flight, length=0)\n",
    "        \n",
    "    # If the flight arrives at SAN, \n",
    "    # add an edge from this flight to end\n",
    "    if destination[flight] == \"SAN\":\n",
    "        G.add_edge(flight, \"end\", length=-distance[flight])\n",
    "        \n",
    "# Solve the shortest path problem using Bellman-Ford\n",
    "length, nodes, negative_cycle = bf.bellman_ford(G, source=\"start\", target=\"end\", weight=\"length\")\n",
    "\n",
    "# Print output from Bellman-Ford\n",
    "print(f\"Negative cycle? {negative_cycle}\")\n",
    "print(f\"Shortest path length: {length}\")\n",
    "print(f\"Shortest path: {nodes}\")"
   ]
  },
  {
   "cell_type": "markdown",
   "metadata": {},
   "source": [
    "_Write your notes here. Double-click to edit._"
   ]
  },
  {
   "cell_type": "markdown",
   "metadata": {},
   "source": [
    "_Solution._\n",
    "\n",
    "- The length of the shortest path is the negative of the maximum total distance Professor Wright can travel from BWI to LAX. In this case, the maximum total distance is 6005 miles.\n",
    "\n",
    "- The nodes in the shortest path tells us which flights Professor Wright should take:\n",
    "    - 2636 from IAD to LAX\n",
    "    - 2503 from LAX to ORD\n",
    "    - 2375 from ORD to DFW\n",
    "    - 435 from DFW to SAN"
   ]
  }
 ],
 "metadata": {
  "kernelspec": {
   "display_name": "Python 3 (ipykernel)",
   "language": "python",
   "name": "python3"
  },
  "language_info": {
   "codemirror_mode": {
    "name": "ipython",
    "version": 3
   },
   "file_extension": ".py",
   "mimetype": "text/x-python",
   "name": "python",
   "nbconvert_exporter": "python",
   "pygments_lexer": "ipython3",
   "version": "3.8.10"
  },
  "latex_metadata": {
   "title": "Lesson 4. The Mileage Running Problem"
  }
 },
 "nbformat": 4,
 "nbformat_minor": 4
}
